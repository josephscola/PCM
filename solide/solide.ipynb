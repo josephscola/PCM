{
 "cells": [
  {
   "cell_type": "markdown",
   "id": "d80117d6-1980-46d0-aca1-05db57bc44be",
   "metadata": {},
   "source": [
    "# Décrire l'état d'un solide"
   ]
  },
  {
   "cell_type": "markdown",
   "id": "85ebeea1-d2ee-47ef-9418-14f160a260a5",
   "metadata": {},
   "source": [
    "## Position du problème"
   ]
  },
  {
   "cell_type": "markdown",
   "id": "abc7343f-f3b1-4916-8c85-9b4bac8f9cf9",
   "metadata": {},
   "source": [
    "### Problème complet\n",
    "\n",
    "Les propriétés macrosopiques d'un solide ainsi que sa réponse à différentes excitations sont déterminées par l'état de l'ensemble des atomes qui le composent, c'est-à-dire de l'état de ses $N_{noy}$ noyaux et de ses $N_{él}$ électrons.\n",
    "\n",
    "Les propriétés macroscopiques d'un solide incluent :\n",
    "- sa densité\n",
    "- sa chaleur spécifique\n",
    "\n",
    "Les excitations extérieures susceptibles de modifier l'état d'un solide sont:\n",
    "| excitation | réponses du solide |\n",
    "|:----------:|:------------------:|\n",
    "| température | changement d'état, phonons,  émission de photons, d'électrons |\n",
    "| champ électrique | conductivité, polarisation électrique, piézoélectricité |\n",
    "| champ magnétique | aimantation, magnétorésistance, magnéto-élasticité |\n",
    "| contraintes mécaniques | déformation, piézoélectricité inverse |\n",
    "| pression | transition de phase |\n",
    "| irradiation par des photons | réflectivité, réfraction, absorption, diffraction, luminescence (fluorescence) |\n"
   ]
  },
  {
   "cell_type": "markdown",
   "id": "03dce8b1-5efd-439f-8943-c9a653eba39c",
   "metadata": {},
   "source": [
    "L'état d'un solide est décrit par son **énergie** : \n",
    "\n",
    "$$\n",
    "\\mathcal{E} = \\mathcal{E}_{cin} + \\mathcal{E}_{pot}\n",
    "$$"
   ]
  },
  {
   "cell_type": "code",
   "execution_count": null,
   "id": "ee71ff58-67de-4d55-86b4-1253d14e4dee",
   "metadata": {},
   "outputs": [],
   "source": []
  },
  {
   "cell_type": "code",
   "execution_count": 2,
   "id": "32ff9125-fa15-438d-b55f-ff0636654874",
   "metadata": {},
   "outputs": [],
   "source": [
    "from IPython.display import Markdown, display\n",
    "import numpy as np\n",
    "import scipy.constants as phys\n",
    "pc = phys.physical_constants\n",
    "m0 = pc ['electron mass'][0]\n",
    "mP = pc ['proton mass'][0]\n",
    "ee = pc [ 'elementary charge'][0]\n",
    "G = pc ['Newtonian constant of gravitation'][0]\n",
    "eps0 = pc ['vacuum electric permittivity'][0]\n",
    "a0 = pc ['Bohr radius'][0]"
   ]
  },
  {
   "cell_type": "code",
   "execution_count": 3,
   "id": "d4f837de-bc3a-4166-aa80-5ca28ce00388",
   "metadata": {},
   "outputs": [
    {
     "data": {
      "text/plain": [
       "5.29177210903e-11"
      ]
     },
     "execution_count": 3,
     "metadata": {},
     "output_type": "execute_result"
    }
   ],
   "source": [
    "a0"
   ]
  },
  {
   "cell_type": "markdown",
   "id": "bba3fe0c-9bd8-4eec-82f4-7e89b1ab02f9",
   "metadata": {},
   "source": [
    "- $\\mathcal{E}_{cin}$ représente l'énergie cinétique de l'ensemble des noyaux et des électrons du solide.\n",
    "- $\\mathcal{E}_{pot}$ rassemble les énergies potentielles desquelles dérivent les forces s'exerçant sur les noyaux et les électrons du solide\n",
    "\n",
    "Examinons la nature de ces forces.\n",
    "Noyaux et électrons portent une masse et une charge :"
   ]
  },
  {
   "cell_type": "code",
   "execution_count": 2,
   "id": "16273dca-fb70-437f-9b53-56cd5f4e4c5d",
   "metadata": {},
   "outputs": [
    {
     "data": {
      "text/markdown": [
       "- masse d'un proton : $m_P$  = 1.67e-27 kg\n",
       "- masse d'un électron : $m_0$ = 9.11e-31 kg\n",
       "- charge électrique élémentaire : $e $ = 1.60e-19 C\n"
      ],
      "text/plain": [
       "<IPython.core.display.Markdown object>"
      ]
     },
     "metadata": {},
     "output_type": "display_data"
    }
   ],
   "source": [
    "basics  = r\"- masse d'un proton : $m_P$  = \" + f\"{mP:.2e} kg\\n\"\n",
    "basics += r\"- masse d'un électron : $m_0$ = \" + f\"{m0:.2e} kg\\n\"\n",
    "basics += r\"- charge électrique élémentaire : $e $ = \" + f\"{ee:.2e} C\\n\"\n",
    "display (Markdown (basics))"
   ]
  },
  {
   "cell_type": "markdown",
   "id": "f080fdcd-e387-48bf-8545-3338dfa3e5ff",
   "metadata": {},
   "source": [
    "Les forces agissant sur les particules constitutives du solide résultent de leurs interaction mutuelles, dont la nature est donc gravitationnelle d'une part et électro-statique d'autre part.\n",
    "\n",
    "Deux particules 1 et 2 distante de $r_{12}$ exercent l'une sur l'autre une attraction gravitationnelle d'intensité :\n",
    "\n",
    "$$\n",
    "F_{G} = -\\mathcal{G} \\frac{m_1 m_2}{r_{12}^2}\n",
    "$$\n",
    "\n",
    "et une force d'intéraction électrostatique d'intensité :\n",
    "\n",
    "$$\n",
    "F_{ES} = \\frac{q_1 q_2}{4 \\pi \\epsilon_0 r_{12}^{2}}\n",
    "$$"
   ]
  },
  {
   "cell_type": "code",
   "execution_count": 3,
   "id": "31e40824-845c-4484-ad2d-97cf6faaea33",
   "metadata": {},
   "outputs": [
    {
     "data": {
      "text/markdown": [
       "L'ordre de grandeur de ces forces peut être obtenu en prenant l'exemple du proton et de l'électron d'un atome d'hydrogène isolé :\n",
       "- Attraction gravitationnelle entre l'électron d'un atome d'hydrogène et son proton : $F_{G}$ = 3.63e-47 N\n",
       "\n",
       "- Attraction électrostatique entre l'électron d'un atome d'hydrogène et son proton : $F_{ES}$ = 8.24e-08 N"
      ],
      "text/plain": [
       "<IPython.core.display.Markdown object>"
      ]
     },
     "metadata": {},
     "output_type": "display_data"
    }
   ],
   "source": [
    "FES = ee * ee / 4 / np.pi / eps0 / a0 / a0\n",
    "FGr = G * m0 * mP / a0 / a0\n",
    "text2display  = \"L'ordre de grandeur de ces forces peut être obtenu en prenant l'exemple du proton et de l'électron d'un atome d'hydrogène isolé :\\n\"\n",
    "text2display += f\"- Attraction gravitationnelle entre l'électron d'un atome d'hydrogène et son proton : \"\n",
    "text2display += '$F_{G}$ = ' + f\"{FGr:.2e} N\\n\\n\"\n",
    "text2display += f\"- Attraction électrostatique entre l'électron d'un atome d'hydrogène et son proton : \"\n",
    "text2display += '$F_{ES}$ = ' + f\"{FES:.2e} N\"\n",
    "display (Markdown (text2display))"
   ]
  },
  {
   "cell_type": "markdown",
   "id": "a15a281b-b2b6-45b2-9702-4e36d551a414",
   "metadata": {},
   "source": [
    "Trente-neuf ordres de grandeurs séparent l'intensité de ces deux forces; en d'autres termes, la contribution de l'attraction gravitationnelles entre les particules constitutives d'un solide ne serait détectable qu'à la condition de disposer d'instruments de mesures dont la précision fournirait 39 décimales ou plus ! \n",
    "\n",
    "C'est la raison pour laquelle le terme $\\mathcal{E}_{pot}$ correspond à l'énergie potentielle électro-statique (ou énergie portentielle de Coulomb) :\n",
    "\n",
    "$$\n",
    "\\mathcal{E}_{pot} \\equiv qV_C (r) = \\frac{q}{4\\pi \\epsilon \\Vert \\vec{r} \\Vert}\n",
    "$$\n",
    "\n",
    "- $V_C$ potentiel de Coulomb créé par une charge ponctuelle\n",
    "- $\\epsilon$ : permittivité du milieu considéré\n",
    "- $q$ : charge de la particule considérée\n",
    "- $\\vec{r}$ : position de la particule considérée par rapport à la charge ponctuelle créant le potentiel"
   ]
  },
  {
   "cell_type": "markdown",
   "id": "228f5467-c366-41d9-8b4b-27f95f04a5ad",
   "metadata": {},
   "source": [
    "Le solide est entièrement décrit par ses $N_{noy}$ noyaux situés en $\\vec{R_i}$ et ses $N_{él}$ électrons situés en $\\vec{r_j}$.\n",
    "L'état du solide est entièrement décrit par le mouvement de ces $N_{noy} + N_{él}$ particules autour de leur positions d'équilibre (énergie cinétique) et la somme de toutes les interactions électrostatiques (attraction/répulsions coulombienne).\n",
    "\n",
    "$$\n",
    "\\begin{align}\n",
    "\\mathcal{E} &= \\mathcal{E_{cin}}^{(noy)} + \\mathcal{E_{cin}}^{(él)} + \\mathcal{E_{pot}}^{(noy-noy)}\n",
    "              + \\mathcal{E_{pot}}^{(él-él)} + \\mathcal{E_{pot}}^{(él-noy)}\\\\\n",
    "            &= \\frac{1}{2} \\sum_{i=1}^{N_{noy}} \\frac{P_i^2}{M_i}\n",
    "              + \\frac{1}{2} \\sum_{j=1}^{N_{él}} \\frac{p_j^2}{m_0}\n",
    "              + \\frac{Z^2}{2} \\sum_{i\\neq j}^{N_{noy}} V_C (\\vec{R_i} - \\vec{R_j})\n",
    "              + \\frac{1}{2} \\sum_{i\\neq j}^{N_{él}} V_C (\\vec{r_i} - \\vec{r_j})\n",
    "              - Z \\sum_{i=1}^{N_{noy}} \\sum_{j=1}^{N_{él}} V_C (\\vec{r_j} - \\vec{R_i})\n",
    "\\end{align}\n",
    "$$\n",
    "\n"
   ]
  },
  {
   "cell_type": "markdown",
   "id": "73cb3e33-b0b4-434e-878f-24936b40220e",
   "metadata": {},
   "source": [
    "L'état déquilibre du système est défini par la configuration (position + vitesse de chacune des particules du problème) qui *minimise* l'énergie totale du système.\n",
    "Ce problème n'admet de solutions analytiques que pour l'atome d'hydrogène !\n",
    "\n",
    "En l'absence de solution analytique, des solutions numériques sont recherchées, mais le temps de calcul diverge dès que le nombre de particules atteint l'ordre de 10$^6$."
   ]
  },
  {
   "cell_type": "code",
   "execution_count": 69,
   "id": "fe42db88-43d6-4f6d-a7e8-d942508e28c3",
   "metadata": {},
   "outputs": [
    {
     "data": {
      "text/markdown": [
       "Pour une parallélépipède de silicium de 1e-07$\\times$1e-07$\\times$1e-07 m$^3$ :\n",
       "- le nombre d'atomes est de l'ordre de 5.00e+07\n",
       "- le nombre de particules est $N_{part} = (Z + 1) N = $7.49e+08 nécessitant 6 coordonnées pour chacune\n",
       "- le nombre d'opérations à réalisé pour connaître l'énergie d'une seule configuration des $N_{part}$ est 3.49e+16\n",
       "- le temps nécessaire pour réaliser ces opérations avec un processeurs à 1 GHz : $T = $3.49e+07 s$\\approx$1.11e+00 ans\n",
       "\n"
      ],
      "text/plain": [
       "<IPython.core.display.Markdown object>"
      ]
     },
     "metadata": {},
     "output_type": "display_data"
    }
   ],
   "source": [
    "# cas du silicium\n",
    "from mendeleev import Si\n",
    "# méthode 1 : masse totale rapportée à la masse d'un atome\n",
    "mSi = Si.atomic_weight * pc ['atomic mass constant'][0]\n",
    "rho = Si.density * 1e3\n",
    "l, L, h = 1e-2, 1e-2, 5e-4\n",
    "l, L, h = 1e-7, 1e-7, 1e-7\n",
    "N1 = rho * l * L * h / mSi\n",
    "\n",
    "# méthode 2 : volume total rapporté au volume d'une maille diamant\n",
    "a = pc ['lattice parameter of silicon'][0]\n",
    "N2 = l * L * h / (a * a * a) * 8 # maille CFC à 2 atomes par maille unitaire)\n",
    "\n",
    "# complexité\n",
    "Z = 14\n",
    "N_at = N1\n",
    "N_objets = (Z + 1) * N_at\n",
    "N_operations = N_at + Z * N_at + N_at + Z * N_at + Z * N_at * N_at\n",
    "N_objets\n",
    "N_operations\n",
    "temps_calcul = N_operations / 1e9\n",
    "year = 365.25 * 24 * 3600\n",
    "temps_calcul / year\n",
    "\n",
    "#report  = r\"Pour une plaquette de silicium de $1\\times 1$ cm$^2$ et d'un demi millimètre d'épaisseur\" + \" :\\n\"\n",
    "report  = f\"Pour une parallélépipède de silicium de {l:.0e}\" + r\"$\\times$\" + f\"{L:.0e}\" + r\"$\\times$\" + f\"{h:.0e} m$^3$ :\\n\"\n",
    "report += f\"- le nombre d'atomes est de l'ordre de {N_at:.2e}\\n\"\n",
    "report += \"- le nombre de particules est $N_{part} = (Z + 1) N = $\" + f\"{N_objets:.2e} nécessitant 6 coordonnées pour chacune\\n\"\n",
    "report += \"- le nombre d'opérations à réalisé pour connaître l'énergie d'une seule configuration des $N_{part}$ est \" + f\"{N_operations:.2e}\\n\"\n",
    "report += \"- le temps nécessaire pour réaliser ces opérations avec un processeurs à 1 GHz : \" + f\"$T = ${temps_calcul:.2e} s\"\n",
    "report += r\"$\\approx$\" +  f\"{temps_calcul / year:.2e} ans\"\n",
    "if (temps_calcul / year / 13.8e9 > 10):\n",
    "    report += f\", soit {temps_calcul / year / 13.8e9:.2e} plus long que l'âge de l'univers observable\\n\\n\"\n",
    "else: report += '\\n\\n'\n",
    "#report += f\"1 an = {year:.2e} s\"\n",
    "display (Markdown (report))"
   ]
  },
  {
   "cell_type": "markdown",
   "id": "0ea0a775-7332-4678-8e60-20355e42f34b",
   "metadata": {},
   "source": [
    "## Hypothèses simplificatrices"
   ]
  },
  {
   "cell_type": "markdown",
   "id": "9b6374b1-ab69-4203-8c56-e8fade2a3ebb",
   "metadata": {},
   "source": [
    "### Approximation de Born-Oppenheimer\n",
    "\n",
    "Compte tenu du fait que la masse des noyaux est typiquemenbt 2000 supérieure à celle des électrons, leur inertie conduit à ce que leur énergie cinétique soit relativement faible.\n",
    "La première approximation consiste à négliger le mouvement des noyaux et les considérer fixes sur leur position d'équilibre. \n",
    "\n",
    "$$\n",
    "\\begin{array}{ccl}\n",
    "\\mathcal{E}_{cin}^{(noy)} &\\longrightarrow& 0 \\\\\n",
    "\\mathcal{E}_{pot}^{(noy-noy)} &\\longrightarrow& \\mathrm{cst}\n",
    "\\end{array}\n",
    "$$\n",
    "\n",
    "Aucun de ces deux termes ne participent plus au problème de minimisation de l'énergie totale qui se réduit aux trois termes suivants :\n",
    "\n",
    "$$\n",
    "\\begin{align}\n",
    "\\mathcal{E} &= \\mathcal{E_{cin}}^{(él)}\n",
    "              + \\mathcal{E_{pot}}^{(él-él)} + \\mathcal{E_{pot}}^{(él-noy)}\\\\\n",
    "            &= \\frac{1}{2} \\sum_{j=1}^{N_{él}} \\frac{p_j^2}{m_0}\n",
    "              + \\frac{1}{2} \\sum_{i\\neq j}^{N_{él}} V_C (\\vec{r_i} - \\vec{r_j})\n",
    "              - Z \\sum_{i=1}^{N_{noy}} \\sum_{j=1}^{N_{él}} V_C (\\vec{r_j} - \\vec{R_i})\n",
    "\\end{align}\n",
    "$$\n",
    "\n",
    "\n",
    "Malgré cette simplification, le problème ne trouve toujours pas de solutions analytiques.\n",
    "La difficulté vient du terme $\\mathcal{E}_{pot}^{(él-él)}$ des interactions électro-statiques entre électrons deux à deux;\n",
    "ce terme empèche de séparer le problème en autant d'équations (à 1 inconnues) qu'il y a d'inconnues parce que chaque électron dépend de l'état de tous les autres.\n"
   ]
  },
  {
   "cell_type": "markdown",
   "id": "725571de-ec5f-4b13-b442-4d36530ba8cd",
   "metadata": {},
   "source": [
    "### Approximation du champ moyen (Hartree-Fock)\n",
    "\n",
    "L'approche de Hartree (établie en 1926, pendant sa thèse $\\dots$) consiste à remplacer le potentiel vu par le $i$-ème électron $\\sum_{j}^{N_{él}-1} V_C (\\vec{r_i} - \\vec{r_j})$ par un potentiel moyen, un potentiel commun à tous les électrons et qui traduise l'effet moyen des autres électrons sur le $i$-ème.\n",
    "\n",
    "Cette approximation réduit à elle seule le nombre d'inconnues à 6, puisque l'environnement est le même pour chaque électron (et que les noyaux sont supposés fixes dans leur position d'équilibre).\n",
    "\n",
    "L'erreur commise par le remplacement du potentiel exact par une version simplifiée est d'autant moins pénalisante que les termes d'intéraction électro-statique sont faibles devant le terme d'énergie cinétique.\n",
    "Il s'avère que ces conditions sont vérifiées dans certaines classes de matériaux, les métaux et les semiconducteurs, pour lesquels cette approximation est réaliste.\n",
    "\n",
    "Le problème de minimisation se réduit alors à  :\n",
    "\n",
    "$$\n",
    "\\mathcal{E} = \\sum_{j=1}^{N_{él}} \\left[ \\frac{p_j^2}{2 m_0} + \\sum_{i=1}^{N_{noy}} V_{moyen} (\\vec{r_j} - \\vec{R_i}) \\right]\n",
    "$$\n",
    "\n",
    "En réalité, toute la difficulté de la méthode réside dans le choix du potentiel moyen $V_{moyen}$.\n",
    "\n",
    "Deux cas limites offrent une vision simple du potentiel moyen :\n",
    "- lorsque l'énergie cinétique de la population d'électrons est si élevée que tout potentiel d'interaction est négligeable. C'est le **modèle de l'électron libre**.\n",
    "- lorsque l'énergie cinétique de la population d'électrons est si faible que les électrons n'ont pas la possibilité de quitter leur atome et occupent des orbitaux comme si les atomes étaient isolés. C'est le **modèle des liaisons fortes**."
   ]
  }
 ],
 "metadata": {
  "kernelspec": {
   "display_name": "Python 3 (ipykernel)",
   "language": "python",
   "name": "python3"
  },
  "language_info": {
   "codemirror_mode": {
    "name": "ipython",
    "version": 3
   },
   "file_extension": ".py",
   "mimetype": "text/x-python",
   "name": "python",
   "nbconvert_exporter": "python",
   "pygments_lexer": "ipython3",
   "version": "3.10.12"
  }
 },
 "nbformat": 4,
 "nbformat_minor": 5
}
