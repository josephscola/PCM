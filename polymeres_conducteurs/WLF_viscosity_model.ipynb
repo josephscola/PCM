{
 "cells": [
  {
   "cell_type": "markdown",
   "metadata": {},
   "source": [
    "# Temperature Dependence of Polymer Viscosity\n",
    "\n",
    "Polymers exhibit behavior during flow and deformation which depends on both temperature and time (frequency), that is, the viscoelastic response of a polymer will depend on the shear history. Only for Newtonian liquids, and in a first approximation for low molecular weight polymers, is the viscosity independent of the shear history. In this case, the temperature dependence of the viscosity may be decribed by an Arrhenius equation of the form\n",
    "\n",
    "where T is the absolute temperature, R the universal gas constant, A a material constant, and E the activation energy. Knowledge of the two material-dependent parameters E and A allows for the prediction of the viscosity for any temperature. The two parameters are usually determined from a plot of log η against 1/T which yields a straight line:\n",
    "\n",
    "For most polymer melts a straight line can only be drawn over a fairly small temperature range of about 50°C. In general, the lower the shear rate and the molecular weight the better the agreement.\n",
    "\n",
    "Doolittle1 provided another equation that is much more accurate for entangled polymer systems. He postulated that the viscosity is an exponential function of the reciprocal of the fractional free volume f:\n",
    "\n",
    "or\n",
    "\n",
    "where A and B are constants and f is the free volume fraction,\n",
    "\n",
    "f = vf / v = (v - vhc) / v\n",
    "\n",
    "vhc is the inaccessible volume and v the measured (molar) volume. Similar to the (molar) polymer volume, it can be assumed that the fractional free volume f increases linearly with temperature. Choosing the free volume at the glass transition temperature Tg as the reference state, the free volume as a function of temperature may be written as\n",
    "\n",
    "f = fg +  αf (T - Tg)\n",
    "\n",
    "where fg is the fractional free volume at Tg and αf is the thermal expansion coefficient. It has been suggested that the two parameters have the univerals values\n",
    "\n",
    "fg ≈ 0.025\n",
    "αf ≈ 4.8 x 10-4 K-1\n",
    "\n",
    "Williams, Landel and Ferry (1955) have suggested that the viscosity η at a temperature T may be related to the viscosity ηg at the glass transition temperature:2\n",
    "\n",
    "or\n",
    "\n",
    "where aT is the so called WLF shift factor. Using the universal values of fg and αf  yields two new constants:\n",
    "\n",
    "C1 = B / fg ≈ 17.44\n",
    "C2 = fg / αf = 51.6 K\n",
    "\n",
    "The two constants are not universal at all. Only polymers with isoviscose behavior will obey the WLF equation. For all other polymers, the two parameters might be very different.\n",
    "\n",
    "Many polymers have melt viscosities of about 1013 poise at their glass transition temperature. Lets assume a polymer has a glass transition temperature of about 373 K then the viscosity at 423 K is:\n",
    "\n",
    "or η = 2.61 x 104 Poise.\n",
    "References & Notes\n",
    "\n",
    "    A.K Doolittle, Journal of Applied Physics, Vol. 22, 12, 1471 - 1475 (1951)\n",
    "\n",
    "    M.L Williams, R.F. Landel and J.D. Ferry, J. Am. Chem. Soc. 77, 3701-3707 (1955)\n",
    "\n"
   ]
  }
 ],
 "metadata": {
  "hide_input": false,
  "kernelspec": {
   "display_name": "Python 3",
   "language": "python",
   "name": "python3"
  },
  "language_info": {
   "codemirror_mode": {
    "name": "ipython",
    "version": 3
   },
   "file_extension": ".py",
   "mimetype": "text/x-python",
   "name": "python",
   "nbconvert_exporter": "python",
   "pygments_lexer": "ipython3",
   "version": "3.6.9"
  }
 },
 "nbformat": 4,
 "nbformat_minor": 2
}
