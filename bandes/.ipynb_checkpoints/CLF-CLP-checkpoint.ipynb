{
 "cells": [
  {
   "cell_type": "markdown",
   "id": "2e3b6b77-9efa-4461-8f48-25317aa18066",
   "metadata": {},
   "source": [
    "# Conditions limites fixes et périodiques"
   ]
  },
  {
   "cell_type": "markdown",
   "id": "0154b397-4ed7-4419-ba5b-4ad5d3e6f7b2",
   "metadata": {},
   "source": [
    "## Pourquoi deux types de conditions limites ?\n",
    "\n",
    "Dans un cristal macroscopique, la part des atomes de surface est négligeable devant celle des atomes de volume. \n",
    "Un édifice cubique de $N$ atomes, compte $N^{2/3}$ atomes en surface; dès que $N$ avoisine le nombre d'Avogadro, soit $N\\approx 10^{24}$, le nombre d'atomes en surface est de l'ordre de $10^{16}$, c'est-à-dire 1 atome de surface pour $10^8$ de volume.\n",
    "Ainsi, les effets de surface, _e.g._ liaisons pendantes ou rupture de périodicité, ne sont pas représentatif des conditions de l'écrasante majorité des atomes et leurs conséquences sont négligeables.\n",
    "Les propriétés de l'édifice cristallin sont dominées par les phénomènes se produisant dans le volume, loin des bords. \n",
    "Le système peut être vu comme un **milieu continu**, dont les bords contribuent tellement peu qu'ils peuvent être, à la limite, repoussés à l'infini.\n",
    "\n",
    "Il peut être avantageux de  délibérément supprimer les bords afin de décrire les propriétés intrinsèques du volume du matériau et en réintroduire les effets dans une deuxième étape comme des perturbations.\n",
    "La stratégie, validée mathématiquement, repose sur l'utilisation de conditions limites périodiques par lesquelles l'édifice tout entier  est répété à l'infini dans toutes les dimensions de l'espace."
   ]
  },
  {
   "cell_type": "markdown",
   "id": "8e580687-78a3-44d6-ba62-b24b363d34af",
   "metadata": {},
   "source": [
    "## Solutions de l'équation de Schrödinger dans les conditions limites périodiques\n",
    "\n",
    "Dans un édifice parallélipipédique $L_x \\times L_y \\times L_z$ s'appuyant sur la base orthonormée de l'espace $(\\vec{u}_x, \\vec{u}_y, \\vec{u}_z)$, le problème stationnaire se réécrit de la façon suivante :\n",
    "\n",
    "$$\n",
    "\\left\\{\n",
    "\\begin{array}{rcl}\n",
    "\\frac{-\\hbar^2}{2m} \\Delta \\psi + V \\psi &=& \\mathcal{E}\\psi \\\\\n",
    "\\psi(\\vec{r} + \\sum_{\\alpha = x, y, z} b_\\alpha L_\\alpha \\vec{u}_\\alpha) &=& \\psi(\\vec{r}), \\quad b_{x,y,z} \\in \\mathbb{Z}\n",
    "\\end{array}\n",
    "\\right.\n",
    "$$"
   ]
  },
  {
   "cell_type": "markdown",
   "id": "cf2ebd43-3d61-431d-bbd0-25a56d1a4b9a",
   "metadata": {},
   "source": [
    "La forme générale des solutions est de nouveau :\n",
    "\n",
    "$$ \\psi (x,y,z) = \\psi_x(x) \\psi_y(y) \\psi_z(z)$$\n",
    "\n",
    "avec \n",
    "$$\n",
    "\\psi_\\alpha (\\alpha) = A e^{ik_\\alpha \\alpha} + B e^{-ik_\\alpha \\alpha},\n",
    "\\quad A, B \\in \\mathbb{C},\\, \\alpha = x,y,z\n",
    "$$\n",
    "\n",
    "La condition périodique s'exprime alors\n",
    "\n",
    "$$\n",
    "A e^{ik_\\alpha \\alpha}e^{ik_\\alpha L_\\alpha} + B e^{-ik_\\alpha \\alpha}e^{-ik_\\alpha L_\\alpha} = A e^{ik_\\alpha \\alpha} + B e^{-ik_\\alpha \\alpha},\n",
    "\\quad A, B \\in \\mathbb{C}.\n",
    "$$\n",
    "\n",
    "Cela impose que les facteurs $e^{\\pm i k_\\alpha L_\\alpha}$ soient tous les six unitaires et donc\n",
    "\n",
    "$$\n",
    "k_\\alpha L_\\alpha = n_\\alpha 2\\pi,\\quad (n_x,n_y,n_z) \\in \\mathbb{Z}^{3*}% \\backslash (0,0,0)\n",
    "$$\n",
    "\n",
    "\n",
    "La condition au premier bord ($\\psi_\\alpha (0) = 0$) impose $A + B =0$.\n",
    "Il s'ensuit que la condition au second bord ($\\psi_\\alpha (L_\\alpha) = 0$) s'exprime :\n",
    "\n",
    "Les $k_\\alpha$ représentent les nombres d'onde ($k \\equiv 2\\pi/\\lambda$) dans les directions $\\alpha = x,y,z$, c'est-à-dire les composantes du vecteur d'onde représentant l'électron libre décrit par la solution $\\psi$.\n",
    "Ce sont les composantes du vecteur d'onde :\n",
    "\n",
    "$$\n",
    "\\vec{k} = k_x \\vec{u}_x + k_y \\vec{u}_y + k_z \\vec{u}_z\n",
    "$$"
   ]
  },
  {
   "cell_type": "markdown",
   "id": "6ea768da-494a-413e-9ccd-586c97906140",
   "metadata": {},
   "source": [
    "## Densité d'états 3D en conditions limites périodiques\n",
    "\n",
    "Les nœuds du réseau réciproque sont distants de $\\Delta k = \\frac{2\\pi}{L_x}$ dans les trois directions de l'espace.\n",
    "Un vecteur d'onde occupe donc un volume $\\frac{8\\pi^3}{V}$.\n",
    "Par suite, la densité de vecteurs d'onde dans l'espace réciproques est \n",
    "\n",
    "$$g^{(3D)}(\\vec{k}) = \\frac{V}{8\\pi^3}$$\n",
    "\n",
    "Les états occupés par les électrons, supposés libres, ont des vecteurs d'ondes dont la norme est comprise entre $k$ et $k + \\mathrm{d}k$ et, la composante de $\\vec{k}$ pouvant être négative, ces états occupent donc une sphère de rayon $k_F$.\n",
    "\n",
    "Soit $\\mathrm{d}M$ le nombre d'états dont l'énergie est comprise entre $\\mathcal{E}$ et $\\mathcal{E} + \\mathrm{d}\\mathcal{E}$.\n",
    "Chaque vecteur d'onde peut accueillir 2 états et l'ensemble de ces états occupe dans l'espace réciproque une coquille sphérique (de rayons intérieur et extrieur $k$ et $k + \\mathrm{d}k$, respectivement) dont le volume s'exprime $4\\pi k^2 \\mathrm{d}k$.\n",
    "Ainsi,\n",
    "\n",
    "$$\n",
    "\\mathrm{d}M \\equiv g^{(3D)}(\\mathcal{E})\\mathrm{d}\\mathcal{E} = 2 \\frac{V}{8\\pi^3} \\times 4\\pi k^2 \\mathrm{d}k\n",
    "$$\n",
    "\n",
    "Le volume occupé par les $\\mathrm{d}M$ électrons est huit fois plus grand que celui en C.L.F. ce qui compense la densité huit fois moindre. \n",
    "Finalement, l'expression de la densité d'états est identique en C.L.P. et en C.L.F. :\n",
    "\n",
    "$$\n",
    "g^{(3D)}(\\mathcal{E}) = \\frac{V}{2\\pi^2} \\left( \\frac{2m}{\\hbar^2}\\right)^{3/2} \\mathcal{E}^{1/2}\n",
    "$$\n",
    "\n"
   ]
  }
 ],
 "metadata": {
  "kernelspec": {
   "display_name": "Python 3 (ipykernel)",
   "language": "python",
   "name": "python3"
  },
  "language_info": {
   "codemirror_mode": {
    "name": "ipython",
    "version": 3
   },
   "file_extension": ".py",
   "mimetype": "text/x-python",
   "name": "python",
   "nbconvert_exporter": "python",
   "pygments_lexer": "ipython3",
   "version": "3.10.12"
  }
 },
 "nbformat": 4,
 "nbformat_minor": 5
}
