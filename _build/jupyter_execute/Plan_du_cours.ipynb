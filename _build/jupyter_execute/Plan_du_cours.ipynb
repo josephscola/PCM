{
 "cells": [
  {
   "cell_type": "markdown",
   "metadata": {},
   "source": [
    "# PCM"
   ]
  },
  {
   "cell_type": "markdown",
   "metadata": {},
   "source": [
    "## Etats des électrons dans les solides\n",
    "\n",
    "## Modèle de l'électron libre\n",
    "1D : chaines\n",
    "3D : cristaux\n",
    "0D : puits quantiques dans polymères\n",
    "\n",
    "## Diagrammes de bandes\n",
    "Ouverture de gap par l'approche de l'électron libre\n",
    "Tight binding modèle\n",
    "\n",
    "## Polymères conducteurs"
   ]
  }
 ],
 "metadata": {
  "hide_input": false,
  "kernelspec": {
   "display_name": "Python 3",
   "language": "python",
   "name": "python3"
  },
  "language_info": {
   "codemirror_mode": {
    "name": "ipython",
    "version": 3
   },
   "file_extension": ".py",
   "mimetype": "text/x-python",
   "name": "python",
   "nbconvert_exporter": "python",
   "pygments_lexer": "ipython3",
   "version": "3.8.10"
  }
 },
 "nbformat": 4,
 "nbformat_minor": 2
}