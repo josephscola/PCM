{
 "cells": [
  {
   "cell_type": "markdown",
   "id": "f6f8195a",
   "metadata": {},
   "source": [
    "# Modèle des liaisons fortes "
   ]
  },
  {
   "cell_type": "markdown",
   "id": "0c8e644e",
   "metadata": {},
   "source": [
    "## Limites forte et faible de l'intéraction électron-réseau\n",
    "Dans l'approche de l'électron presque libre, le potentiel est supposé suffisamment faible pour être considéré comme une légère perturbation de l'électron tout à fait libre.\n",
    "Les électrons sont d'autant plus libres (relation de dispersion parabolique, $\\mathcal{E} \\propto k^2$) que la norme de leur vecteur d'onde est petite par rapport à la première zone de Brillouin ($\\Vert \\vec{k} \\Vert \\ll \\frac{\\pi}{a}$).\n",
    "Autrement dit, l'influence du réseau sur les électrons est d'autant plus faible que leur longueur d'onde est grande devant le pas du réseau ($\\lambda \\gg a$).\n",
    "\n",
    "Au contraire, l'approche des liaisons fortes (*tight binding model*) postule que le potentiel atomique est la contribution principale de l'énergie des électrons. \n",
    "On suppose que les électrons sont aussi fortement liés à leur atome que si chaque atome du cristal était isolé;  ce sont les interactions avec les atomes voisins qui sont considérés comme des perturbations subies par les électrons dans leurs orbitales atomiques.\n",
    "Cette approche est valide lorsque le paramètre de maille $a$ s'étend : les conditions pour que les électrons soient libres sont de plus en plus restrictives et le potentiel est de moins en moins négligeable.\n",
    "De fait, plus les atomes sont éloignés les uns des autres, plus il est réaliste de les considérer comme des atomes isolés; il suffit d'imaginer un cristal dont le paramètre de maille est de l'ordre du kilomètre !"
   ]
  },
  {
   "cell_type": "markdown",
   "id": "da4b8b46",
   "metadata": {},
   "source": [
    "## Description du potentiel du réseau\n",
    "Dans ces conditions, le potentiel $V$ du réseau s'exprime comme la répétition, sur chaque site $\\vec{T}$ du réseau, du potentiel électrostatique créé par les noyaux vus comme des charges ponctuelles $q$ : \n",
    "\n",
    "$$\n",
    "V (\\vec{r}) = \\sum_{\\vec{T}} \\frac{q}{4\\pi\\varepsilon_0 \\Vert \\vec{r} - \\vec{T} \\Vert}\n",
    "$$"
   ]
  },
  {
   "cell_type": "markdown",
   "id": "0b32577b",
   "metadata": {},
   "source": [
    "La fonction $V (\\vec{r})$ possède par construction la périodicité du réseau.\n",
    "Elle peut donc s'exprimer comme la superposition de fonctions périodiques dans chaque direction ($x$, $y$, $z$) de l'espace :\n",
    "\n",
    "$$\n",
    "V (x) = \\sum_{n\\ge 1} g_n \\cos \\left( n\\frac{2\\pi}{a}x \\right).\n",
    "$$\n",
    "\n",
    "En effet, en première approximation, le potentiel périodique considéré comme une oscillation sinusoïdale de période $a$.\n",
    "Les termes d'ordre supérieurs ($n\\ge 2$) sont périodique de période $a/n$, ce qui conserve la périodicité de période $a$. \n",
    "Ces termes apportent des corrections de plus en plus fines à cette approximation jusqu'à faire tendre la série vers la fonction originale, éventuellement à la limite $n\\rightarrow \\infty$ (c'est la *décomposition en série de Fourier*)."
   ]
  },
  {
   "cell_type": "markdown",
   "id": "38623de9",
   "metadata": {},
   "source": [
    "Dans sa version complexe (décomposition en ondes planes), cette série prend la forme suivante :\n",
    "\n",
    "$$\n",
    "V (x) = \\sum_{n\\in \\mathbb{Z}} G_n e^ { in\\frac{2\\pi}{a}x }.\n",
    "$$"
   ]
  },
  {
   "cell_type": "markdown",
   "id": "04f4ee06",
   "metadata": {},
   "source": []
  },
  {
   "cell_type": "markdown",
   "id": "663f37c6",
   "metadata": {},
   "source": [
    "Parmi toutes les solutions de l'équation de Schroëdinger intégrant le potentiel $V$ du réseau, on recherche celles qui :\n",
    "- ont un comportement ondulatoire décrit par leur vecteur d'onde $\\vec{k}$\n",
    "- sont susceptibles de s'éteindre avec la distance à un atome (celui dont l'électron est issu)\n",
    "- possèdent la périodicité du réseau\n",
    "\n",
    "La combinaison de ces 3 critères conduit à rechercher des fonctions d'onde de la forme :\n",
    "$\\psi (\\vec{r}) = e^{i\\vec{k}\\cdot \\vec{x}} \\phi (\\vec{r})$ où $\\phi$ est une fonction qui tend vers zéro à l'infini.\n",
    "\n",
    "\n",
    "$$\n",
    "\\psi (\\vec{r} + \\vec{T}) = \\psi (\\vec{r})\n",
    "$$\n",
    "\n",
    "$$\n",
    "\\psi_\\vec{k} (\\vec{r} + \\vec{T}) = e^{i\\vec{k}\\cdot \\vec{T}} \\psi_\\vec{k} (\\vec{r})\n",
    "$$"
   ]
  },
  {
   "cell_type": "markdown",
   "id": "28155d6f",
   "metadata": {},
   "source": [
    "Etats électroniques \n",
    "\n",
    "$$\n",
    "\\psi (\\vec{r}) = \\sum_{\\vec{T}} a_{\\vec{k},\\vec{T}} \\phi_j (\\vec{r} + \\vec{T})\n",
    "$$\n",
    "\n",
    "où $\\phi_j$ est une orbitale atomique.\n"
   ]
  },
  {
   "cell_type": "markdown",
   "id": "30589af2",
   "metadata": {},
   "source": [
    "Intégrales de transfert"
   ]
  },
  {
   "cell_type": "markdown",
   "id": "f50c6814",
   "metadata": {},
   "source": [
    "![Hydrogen_orbitals](./Atomic_orbitals_n123_m-eigenstates.png)\n",
    "\n",
    "By Geek3 - Own work, Created with hydrogen 1.1, CC BY-SA 4.0, https://commons.wikimedia.org/w/index.php?curid=67681892\n"
   ]
  }
 ],
 "metadata": {
  "hide_input": false,
  "kernelspec": {
   "display_name": "Python 3 (ipykernel)",
   "language": "python",
   "name": "python3"
  },
  "language_info": {
   "codemirror_mode": {
    "name": "ipython",
    "version": 3
   },
   "file_extension": ".py",
   "mimetype": "text/x-python",
   "name": "python",
   "nbconvert_exporter": "python",
   "pygments_lexer": "ipython3",
   "version": "3.9.15"
  }
 },
 "nbformat": 4,
 "nbformat_minor": 5
}