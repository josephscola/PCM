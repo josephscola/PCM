{
 "cells": [
  {
   "cell_type": "markdown",
   "id": "be40e70f",
   "metadata": {},
   "source": [
    "## Introduction aux polymères conducteurs"
   ]
  },
  {
   "cell_type": "code",
   "execution_count": null,
   "id": "e363302d",
   "metadata": {},
   "outputs": [],
   "source": []
  }
 ],
 "metadata": {
  "hide_input": false,
  "kernelspec": {
   "display_name": "Python 3 (ipykernel)",
   "language": "python",
   "name": "python3"
  },
  "language_info": {
   "codemirror_mode": {
    "name": "ipython",
    "version": 3
   },
   "file_extension": ".py",
   "mimetype": "text/x-python",
   "name": "python",
   "nbconvert_exporter": "python",
   "pygments_lexer": "ipython3",
   "version": "3.9.15"
  }
 },
 "nbformat": 4,
 "nbformat_minor": 5
}