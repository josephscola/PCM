{
 "cells": [
  {
   "cell_type": "markdown",
   "metadata": {},
   "source": [
    "## Décrire le comportement d'un électron comme une onde"
   ]
  },
  {
   "cell_type": "markdown",
   "metadata": {},
   "source": [
    "Durant le XIXème siècle se sont accumulées des preuves expérimentales  montrant tantôt le comportement ondulatoire de la lumière, tantôt son comportement corpusculaire.\n",
    "\n",
    "Au début du XXème siècle, De Broglie propose de généraliser le mouvement de tout corps ayant une énergie $E$ et une quantité de mouvement $\\vec{p}$ à celui d'une onde de fréquence $\\nu$ et de longueur d'onde $\\lambda$.:\n",
    "\n",
    "$$\n",
    "\\left\\{\n",
    "\\begin{align}\n",
    "E &= h\\nu \\\\\n",
    "p &= h/\\lambda\n",
    "\\end{align}\n",
    "\\right.\n",
    "$$\n",
    "\n",
    "avec $h = 6.6263\\cdot 10^{-34}$ J$\\cdot$s représente la constante de Planck.\n",
    "\n",
    "En pratique cette description ne s'applique qu'à des particules de masse voisine de celles d'un électron.\n",
    "Pour des masses supérieures, les longueurs d'onde correspondantes n'ont pas de sens.\n",
    "\n",
    "E. Schödinger (Physicien autrichien) postule une formulation générale du mouvement ondulatoire d'une telle particule sur la base du formalisme mathématique récemment établi pour les ondes.\n",
    "\n",
    "L'état de la particule, _i.e._ son mouvement, est réprésenté par une onde, par exemple plane propagative :\n",
    "\n",
    "$$\n",
    "\\psi (\\vec{r}, t) = A e^{i(\\vec{k}\\cdot\\vec{r} + \\phi)}\n",
    "$$\n",
    "\n",
    "On considérera dans ce cours des états stationnaires, déterminés par l'environnement "
   ]
  },
  {
   "cell_type": "markdown",
   "metadata": {},
   "source": [
    "Le problème de la dynamique des électrons dans un solide est alors traité en remplaçant les particules par des ondes électroniques.\n",
    "\n",
    "La constante $A \\in \\mathbb {C}$ est l'amplitude de l'onde électronique; elle représente la **densité de probabilité de présence** de la particule à la position $\\vec{r}$ et à l'instant $t$.\n",
    "\n",
    "L'intensité $\\psi\\psi^*$ correspond à la **densité de présence** (ou densité) de la particule à la position $\\vec{r} = x\\vec{u}_x + y\\vec{u}_y+ z\\vec{u}_z$ :\n",
    "\n",
    "$$\n",
    "\\psi (\\vec{r})\\psi(\\vec{r})^* = \\rho(\\vec{r})\n",
    "$$\n",
    "\n",
    "La particule ne pouvant être _intégralement_ à plusieurs endroits en même temps, $\\rho(\\vec{r})$ est nécessairement inférieur ou égal à 1.\n",
    "Soit $\\Omega$ l'espace dans lequel se trouve la particule.\n",
    "En cumulant sur $\\Omega$ les densités locales de la particule, on obtient la particule elle-même :\n",
    "\n",
    "$$\n",
    "\\int_\\Omega \\rho (\\vec{r}) d^3\\tau = 1\n",
    "$$"
   ]
  }
 ],
 "metadata": {
  "hide_input": false,
  "kernelspec": {
   "display_name": "Python 3 (ipykernel)",
   "language": "python",
   "name": "python3"
  },
  "language_info": {
   "codemirror_mode": {
    "name": "ipython",
    "version": 3
   },
   "file_extension": ".py",
   "mimetype": "text/x-python",
   "name": "python",
   "nbconvert_exporter": "python",
   "pygments_lexer": "ipython3",
   "version": "3.8.10"
  }
 },
 "nbformat": 4,
 "nbformat_minor": 2
}