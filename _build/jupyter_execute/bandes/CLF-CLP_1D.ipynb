{
 "cells": [
  {
   "cell_type": "markdown",
   "id": "2e3b6b77-9efa-4461-8f48-25317aa18066",
   "metadata": {},
   "source": [
    "# Conditions limites fixes et périodiques"
   ]
  },
  {
   "cell_type": "markdown",
   "id": "746a9451-3faa-43c1-992e-fb91ace6ed15",
   "metadata": {},
   "source": [
    "## Densité d'états 1D en conditions limites fixes\n",
    "Les nœuds du réseau réciproque sont distants de $\\Delta k = \\frac{\\pi}{Na}$\n",
    "Un vecteur d'onde occupe donc un volume $\\frac{\\pi}{Na}$.\n",
    "Par suite, la densité de vecteurs d'onde dans l'espace réciproques est $g(\\vec{k}) = \\frac{Na}{\\pi}$\n",
    "\n",
    "Les états occupés par les électrons, supposés libres, ont des vecteurs d'ondes tels que $0< \\Vert \\vec{k}\\Vert \\le k_F$ et occupent donc le segment $[0,k_F]$.\n",
    "\n",
    "Soit $\\mathrm{d}M$ le nombre d'états dont l'énergie est comprise entre $\\mathcal{E}$ et $\\mathcal{E} + \\mathrm{d}\\mathcal{E}$.\n",
    "Chaque vecteur d'onde peut accueillir 2 états et l'ensemble de ces états occupe dans l'espace réciproque le segment $[k,k+\\mathrm{d}k]$, de largeur $\\mathrm{d}k$ (avec $k = \\left( \\frac{2m}{\\hbar^2} \\right)^{1/2}$:\n",
    "\n",
    "$$\n",
    "\\mathrm{d}M \\equiv g(\\mathcal{E})\\mathrm{d}\\mathcal{E} = 2 \\frac{Na}{\\pi} \\mathrm{d}k\n",
    "$$\n",
    "\n",
    "En substituant $\\mathrm{d}\\mathcal{E} = 2 \\frac{\\hbar^2}{2m}k\\mathrm{d}k$ et $k = \\left(\\frac{2m}{\\hbar^2}\\right)^{1/2} \\mathcal{E}^{1/2}$ il vient\n",
    "\n",
    "$$\n",
    "g(\\mathcal{E}) = \\frac{Na}{\\pi} \\left( \\frac{2m}{\\hbar^2}\\right)^{1/2} \\mathcal{E}^{-1/2}\n",
    "$$"
   ]
  },
  {
   "cell_type": "markdown",
   "id": "6ea768da-494a-413e-9ccd-586c97906140",
   "metadata": {},
   "source": [
    "## Densité d'états 1D en conditions limites périodiques\n",
    "\n",
    "Les nœuds du réseau réciproque sont distants de $\\Delta k = \\frac{2\\pi}{Na}$\n",
    "Un vecteur d'onde occupe donc un volume $\\frac{2\\pi}{Na}$.\n",
    "Par suite, la densité de vecteurs d'onde dans l'espace réciproques est $g(\\vec{k}) = \\frac{Na}{2\\pi}$\n",
    "\n",
    "Les états occupés par les électrons, supposés libres, ont des vecteurs d'ondes tels que $0< \\Vert \\vec{k}\\Vert \\le k_F$ et, la composante de $\\vec{k}$ pouvant être négative, ces états occupent donc le segment $[-k_F,k_F]$.\n",
    "\n",
    "Soit $\\mathrm{d}M$ le nombre d'états dont l'énergie est comprise entre $\\mathcal{E}$ et $\\mathcal{E} + \\mathrm{d}\\mathcal{E}$.\n",
    "Chaque vecteur d'onde peut accueillir 2 états et l'ensemble de ces états occupe dans l'espace réciproque les segments $[-k-\\mathrm{d}k, -k] \\cup [k,k+\\mathrm{d}k]$, soit un *volume* (_i.e._ longueur à 1D) total de $2\\mathrm{d}k$ :\n",
    "\n",
    "$$\n",
    "\\mathrm{d}M \\equiv g(\\mathcal{E})\\mathrm{d}\\mathcal{E} = 2 \\frac{Na}{2\\pi} \\times 2 \\mathrm{d}k\n",
    "$$\n",
    "\n",
    "Le volume occupé par les $\\mathrm{d}M$ électrons est le double de celui en C.L.F. ce qui compense la densité moitié moindre. \n",
    "Finalement, l'expression de la densité d'états est identique en C.L.P. et en C.L.F. :\n",
    "\n",
    "$$\n",
    "g(\\mathcal{E}) = \\frac{Na}{\\pi} \\left( \\frac{2m}{\\hbar^2}\\right)^{1/2} \\mathcal{E}^{-1/2}\n",
    "$$\n",
    "\n"
   ]
  }
 ],
 "metadata": {
  "kernelspec": {
   "display_name": "Python 3 (ipykernel)",
   "language": "python",
   "name": "python3"
  },
  "language_info": {
   "codemirror_mode": {
    "name": "ipython",
    "version": 3
   },
   "file_extension": ".py",
   "mimetype": "text/x-python",
   "name": "python",
   "nbconvert_exporter": "python",
   "pygments_lexer": "ipython3",
   "version": "3.10.12"
  }
 },
 "nbformat": 4,
 "nbformat_minor": 5
}