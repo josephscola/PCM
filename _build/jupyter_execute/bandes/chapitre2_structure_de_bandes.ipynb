{
 "cells": [
  {
   "cell_type": "markdown",
   "id": "3d6f6b35",
   "metadata": {},
   "source": [
    "# Chapitre 2 : Structure de bandes\n",
    "Du métal à l'isolant : le modèle de l'électron presque libre."
   ]
  }
 ],
 "metadata": {
  "hide_input": false,
  "kernelspec": {
   "display_name": "Python 3 (ipykernel)",
   "language": "python",
   "name": "python3"
  },
  "language_info": {
   "codemirror_mode": {
    "name": "ipython",
    "version": 3
   },
   "file_extension": ".py",
   "mimetype": "text/x-python",
   "name": "python",
   "nbconvert_exporter": "python",
   "pygments_lexer": "ipython3",
   "version": "3.9.15"
  }
 },
 "nbformat": 4,
 "nbformat_minor": 5
}