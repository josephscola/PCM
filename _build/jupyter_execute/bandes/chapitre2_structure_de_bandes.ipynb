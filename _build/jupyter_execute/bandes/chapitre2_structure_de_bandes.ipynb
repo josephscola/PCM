{
 "cells": [
  {
   "cell_type": "markdown",
   "id": "3d6f6b35",
   "metadata": {},
   "source": [
    "# Structure de bandes\n",
    "Du métal à l'isolant : le modèle de l'électron presque libre."
   ]
  },
  {
   "cell_type": "markdown",
   "id": "3efb31d8-da0b-4dce-9262-a51ef24939cc",
   "metadata": {},
   "source": [
    "```{tableofcontents}\n",
    "`̀ `"
   ]
  }
 ],
 "metadata": {
  "hide_input": false,
  "kernelspec": {
   "display_name": "Python 3 (ipykernel)",
   "language": "python",
   "name": "python3"
  },
  "language_info": {
   "codemirror_mode": {
    "name": "ipython",
    "version": 3
   },
   "file_extension": ".py",
   "mimetype": "text/x-python",
   "name": "python",
   "nbconvert_exporter": "python",
   "pygments_lexer": "ipython3",
   "version": "3.10.12"
  }
 },
 "nbformat": 4,
 "nbformat_minor": 5
}