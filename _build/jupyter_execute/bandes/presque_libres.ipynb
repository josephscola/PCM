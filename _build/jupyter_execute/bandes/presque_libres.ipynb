{
 "cells": [
  {
   "cell_type": "markdown",
   "id": "a6312e32",
   "metadata": {},
   "source": [
    "## Electrons presque libres et bande d'énergie interdite \n",
    "Ou pourquoi les électrons de valence n'assurent aucune conduction électrique dans les isolants ?"
   ]
  },
  {
   "cell_type": "markdown",
   "id": "82cdc71e",
   "metadata": {},
   "source": [
    "### Electrons libres dans un potentiel presque nul"
   ]
  },
  {
   "cell_type": "markdown",
   "id": "51400d5f",
   "metadata": {},
   "source": [
    " Considérons une rangée régulière d'atomes, de paramètre de maille $a$ et un électron libre de fonction d'onde $\\psi (x) = A e^{ikx}$"
   ]
  },
  {
   "cell_type": "code",
   "execution_count": null,
   "id": "fdc0fc11",
   "metadata": {},
   "outputs": [],
   "source": []
  }
 ],
 "metadata": {
  "hide_input": false,
  "kernelspec": {
   "display_name": "Python 3 (ipykernel)",
   "language": "python",
   "name": "python3"
  },
  "language_info": {
   "codemirror_mode": {
    "name": "ipython",
    "version": 3
   },
   "file_extension": ".py",
   "mimetype": "text/x-python",
   "name": "python",
   "nbconvert_exporter": "python",
   "pygments_lexer": "ipython3",
   "version": "3.9.15"
  }
 },
 "nbformat": 4,
 "nbformat_minor": 5
}