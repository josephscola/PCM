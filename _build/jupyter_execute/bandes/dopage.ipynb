{
 "cells": [
  {
   "cell_type": "markdown",
   "id": "af956bc6",
   "metadata": {},
   "source": [
    "# Dopage d'un semiconducteur"
   ]
  },
  {
   "cell_type": "markdown",
   "id": "6c510360",
   "metadata": {},
   "source": [
    "## Application numérique :\n",
    "Le silicium cristallise dans un réseau c.f.c..\n",
    "La maille conventionnelle contient 8 atomes et son paramètre est $a = 5.431 020 511 \\cdot 10^{-10}$ m.\n",
    "\n",
    "On introduit dans le cristal une densité contrôlée $N_d$ d'impuretés de phosphore.\n",
    "Les atomes de phosphore occupent des sites de l'élément majeur auquel il se substitue.\n",
    "Le phosphore appartient à la colonne V du tableau périodique de sorte qu'après avoir construit les liaisons chimiques avec ses 4 voisins, il reste un électron non lié qui est \"donné\" à la population de porteurs libres.\n",
    "En admettant que la température ambiante est suffisante pour que toutes les impuretés soient ionisées, la densité de électrons libres ainsi introduits dans le cristal est égale à $N_d$.\n",
    "Le nombre total de d'électrons libres, intrinséques et issus du dopant, est donc maintenant :\n",
    "$$ \n",
    "n = n_i + N_d\n",
    "$$"
   ]
  },
  {
   "cell_type": "markdown",
   "id": "81a6e47a",
   "metadata": {},
   "source": [
    "En inversant l'expression de $n(\\mathcal{E}_F)$ on obtient :\n",
    "\n",
    "$$\n",
    "\\mathcal{E}_F = \\mathcal{E}_C + k_BT \\ln \\left( \\frac{n}{N_C} \\right)\n",
    "$$\n",
    "\n",
    "et finalement, l'introduction des électrons libres donnés par les impuretés de phosphore décale l'énergie de Fermi de:\n",
    "\n",
    "$$\n",
    "\\mathcal{E}_F - \\mathcal{E}_{Fi} = k_BT \\ln \\left( \\frac{n}{ni} \\right)\n",
    "$$"
   ]
  },
  {
   "cell_type": "markdown",
   "id": "aeca80f3",
   "metadata": {},
   "source": [
    "Dans le cas d'un dopage par un élément de la troisième colonne, _e.g._ le bore, ce sont des trous libres qui sont introduits dans la bande de valence.\n",
    "Par conservation de la neutralité, la densité d'électrons libres s'en trouvent réduits (l'introduction de trous est en fait un déficit d'électrons libres) : $n = \\frac{ni^2}{n_i + N_a}$ "
   ]
  },
  {
   "cell_type": "code",
   "execution_count": 1,
   "id": "4ae06294",
   "metadata": {},
   "outputs": [
    {
     "data": {
      "text/markdown": [
       "Densité d'états moyenne dans la bande de conduction : NC = 2.7e+25 m$^{-3}$"
      ],
      "text/plain": [
       "<IPython.core.display.Markdown object>"
      ]
     },
     "metadata": {},
     "output_type": "display_data"
    },
    {
     "data": {
      "text/markdown": [
       "Densité d'états moyenne dans la bande de valence : NV = 3.1e+25 m$^{-3}$"
      ],
      "text/plain": [
       "<IPython.core.display.Markdown object>"
      ]
     },
     "metadata": {},
     "output_type": "display_data"
    },
    {
     "name": "stdout",
     "output_type": "stream",
     "text": [
      "Densité de porteurs intrinsèque : ni = 1e+10 cm-3\n",
      "La densité intrinsèque correspond à 1.8e-12 porteurs libres par maille,\n",
      "soit 1 porteur libre toutes les 8e+03 mailles.\n"
     ]
    }
   ],
   "source": [
    "import numpy as np\n",
    "from IPython.display import display, Markdown\n",
    "m = 9.1093837015e-31\n",
    "kB = 1.380649e-23\n",
    "T = 300\n",
    "h = 6.62607015e-34\n",
    "e = 1.602176634e-19\n",
    "\n",
    "# Silicium\n",
    "Eg = 1.12 # eV\n",
    "me = 1.05 * m\n",
    "mh = 1.15 * m\n",
    "\n",
    "\n",
    "NC = 2 * (2*np.pi * me * kB*T / h/h) ** (3/2)\n",
    "NV = 2 * (2*np.pi * mh * kB*T / h/h) ** (3/2)\n",
    "NCstr = f\"Densité d'états moyenne dans la bande de conduction : NC = {NC:.1e} m\" + r\"$^{-3}$\"\n",
    "NVstr = f\"Densité d'états moyenne dans la bande de valence : NV = {NV:.1e} m\" + r\"$^{-3}$\"\n",
    "\n",
    "display (Markdown (NCstr))\n",
    "display (Markdown (NVstr))\n",
    "\n",
    "\n",
    "ni = np.sqrt (NC * NV * np.exp (-Eg * e / kB / T))\n",
    "\n",
    "# nombre de porteurs par mailles\n",
    "a = 5.431020511e-10\n",
    "V = a*a*a\n",
    "\n",
    "n_intrinseque = f'Densité de porteurs intrinsèque : ni = {ni * 1e-6:.0e} cm-3'\n",
    "print (n_intrinseque)\n",
    "nb_par_maille = f'La densité intrinsèque correspond à {ni * V:.1e} porteurs libres par maille,'\n",
    "print (nb_par_maille)\n",
    "distance_moyenne = f'soit 1 porteur libre toutes les {(ni * V) ** (-1/3):.0e} mailles.'\n",
    "print (distance_moyenne)"
   ]
  },
  {
   "cell_type": "code",
   "execution_count": 2,
   "id": "b09ad70f",
   "metadata": {},
   "outputs": [
    {
     "data": {
      "text/markdown": [
       "|Dopage P (cm$^{-3}$)| Décalage de $\\mathcal{E}_F$ (eV)|Dopage B (cm$^{-3}$)| Décalage de $\\mathcal{E}_F$ (eV)|\n",
       "|:-:|:-:|:-:|:-:|\n",
       "|1e+16 | 0.02|1e+16 | -0.02|\n",
       "|1e+18 | 0.12|1e+18 | -0.12|\n",
       "|1e+20 | 0.23|1e+20 | -0.23|\n",
       "|1e+22 | 0.35|1e+22 | -0.35|\n",
       "|1e+24 | 0.47|1e+24 | -0.47|"
      ],
      "text/plain": [
       "<IPython.core.display.Markdown object>"
      ]
     },
     "metadata": {},
     "output_type": "display_data"
    }
   ],
   "source": [
    "# dopage\n",
    "Nd = np.array ([1e10, 1e12, 1e14, 1e16, 1e18]) * 1e6\n",
    "Na = np.array ([1e10, 1e12, 1e14, 1e16, 1e18]) * 1e6\n",
    "\n",
    "ePhiF_P = kB * T * np.log ( (ni+Nd) / ni) / e\n",
    "ePhiF_B = kB * T * np.log ( ni*ni/ (ni+Na) / ni) / e\n",
    "\n",
    "table  = '|Dopage P (cm$^{-3}$)| Décalage de $\\mathcal{E}_F$ (eV)|Dopage B (cm$^{-3}$)| Décalage de $\\mathcal{E}_F$ (eV)|\\n'\n",
    "table += '|:-:|:-:|:-:|:-:|'\n",
    "for i in range (len (Nd)):\n",
    "    table += f'\\n|{Nd [i]:.0e} | {ePhiF_P [i]:.2f}|{Na [i]:.0e} | {ePhiF_B [i]:.2f}|'\n",
    "\n",
    "display (Markdown (table))"
   ]
  },
  {
   "cell_type": "code",
   "execution_count": 3,
   "id": "867510d9",
   "metadata": {},
   "outputs": [
    {
     "data": {
      "text/plain": [
       "array([1.60193293e-12, 1.60193293e-10, 1.60193293e-08, 1.60193293e-06,\n",
       "       1.60193293e-04])"
      ]
     },
     "execution_count": 3,
     "metadata": {},
     "output_type": "execute_result"
    }
   ],
   "source": [
    "# proportion de Si substitué\n",
    "\n",
    "Nd * a*a*a"
   ]
  }
 ],
 "metadata": {
  "hide_input": false,
  "kernelspec": {
   "display_name": "Python 3 (ipykernel)",
   "language": "python",
   "name": "python3"
  },
  "language_info": {
   "codemirror_mode": {
    "name": "ipython",
    "version": 3
   },
   "file_extension": ".py",
   "mimetype": "text/x-python",
   "name": "python",
   "nbconvert_exporter": "python",
   "pygments_lexer": "ipython3",
   "version": "3.9.15"
  }
 },
 "nbformat": 4,
 "nbformat_minor": 5
}