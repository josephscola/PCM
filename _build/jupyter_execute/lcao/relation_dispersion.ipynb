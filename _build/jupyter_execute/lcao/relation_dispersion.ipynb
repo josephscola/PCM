{
 "cells": [
  {
   "cell_type": "markdown",
   "id": "da4b8b46",
   "metadata": {},
   "source": [
    "# Relation de dispersion\n",
    "Dans ces conditions, le potentiel $V$ du réseau s'exprime comme la répétition, sur chaque site $\\vec{T}$ du réseau, du potentiel électrostatique créé par les noyaux vus comme des charges ponctuelles $q$ : \n",
    "\n",
    "$$\n",
    "V (\\vec{r}) = \\sum_{\\vec{T}} \\frac{q}{4\\pi\\varepsilon_0 \\Vert \\vec{r} - \\vec{T} \\Vert}\n",
    "$$\n",
    "\n",
    "Soit pour une rangée d'atomes :\n",
    "\n",
    "$$\n",
    "V (x) = \\sum_{m} \\frac{q}{4\\pi\\varepsilon_0 | x + ma |}\n",
    "$$\n"
   ]
  },
  {
   "cell_type": "markdown",
   "id": "9e3cb6de",
   "metadata": {},
   "source": [
    "Vu comme un corpuscule, l'énergie d'un électron situé en $x$ plongé dans un potentiel $V$ vaut $-eV(x)$.\n",
    "Dans sa version ondulatoire $\\psi(x)$, l'énergie de l'électron doit intégrer l'ensemble de l'espace où l'électron se trouve \"dilué\" :\n",
    "\n",
    "$$\n",
    "\\mathcal{E}  = -\\int \\psi^* V \\psi \\mathrm{d}x \n",
    " = -\\int \\sum_{m, m^\\prime} \\psi^*_0(x + ma) V \\psi_{0}(x + m^\\prime a) \\mathrm{d}x\n",
    "$$\n",
    "\n",
    "Or, les fonctions $\\psi_m$ décroissent très vite et seuls les deux termes de la double somme vérifiant $|m-m^\\prime| \\le 1$ ne s'annulent pas :\n",
    "\n",
    "$$\n",
    "\\begin{align}\n",
    "-\\mathcal{E}_0  &= -\\int \\psi_0^*(x) V\\psi_{0}(x) \\mathrm{d}x, \\\\\n",
    "t^+  &= -\\int e^{ika} \\psi_0^*(x + a) V\\psi_{0}(x) \\mathrm{d}x = -e^{ika} t,\\\\\n",
    "t^-  &= -\\int e^{-ika} \\psi_0^*(x - a) V\\psi_{0}(x) \\mathrm{d}x = -e^{-ika} t\n",
    "\\end{align}\n",
    "$$\n",
    "\n",
    "- Le terme $U_0$ représente l'énergie de l'électron sur son site : c'est le gain d'énergie à être sur son atome plutôt qu'ailleurs.\n",
    "- Le terme $t$ représente l'énergie de transfert : c'est le gain d'énergie associé à la délocalisation (partielle) sur les sites voisins de droite (+) et de gauche (-). C'est une mesure du recouvrement des orbitales voisines. \n",
    "\n",
    "Les termes de transfert électronique sont responsables de la perturbation subies par les orbitales atomiques pures induites par la présence du réseau; en l'occurrence l'influence du réseau se limite aux plus proches voisins.\n",
    "\n",
    "Finalement, l'énergie d'un électron s'exprime donc :\n",
    "\n",
    "$$\n",
    "\\mathcal{E} = -\\mathcal{E}_0  - t e^{ika}  - t e^{-ika} = \\mathcal{E}_0 - 2t \\cos (ka)\n",
    "$$"
   ]
  },
  {
   "cell_type": "code",
   "execution_count": 1,
   "id": "3638be17",
   "metadata": {},
   "outputs": [],
   "source": [
    "import matplotlib.pyplot as plt\n",
    "import numpy as np\n",
    "\n",
    "k = np.linspace (-np.pi, np.pi)\n",
    "E = 0 - np.cos (k)\n",
    "fig, ax = plt.subplots ()\n",
    "\n",
    "\n",
    "ax.plot (k, E)\n",
    "ax.set_xlabel ('k')\n",
    "ax.set_xticks([-np.pi, 0, np.pi], [r'-$\\dfrac{\\pi}{a}$', '0', r'$\\dfrac{\\pi}{a}$'])\n",
    "ax.set_yticks([-1, 0, 1],[r'$E_0 - 2t$', '$E_0$', r'$E_0 + 2t$'])\n",
    "fig.savefig ('./figures/lcao_dispersion.png')\n",
    "plt.close ()"
   ]
  },
  {
   "cell_type": "markdown",
   "id": "38686f20",
   "metadata": {},
   "source": [
    "![](./figures/lcao_dispersion.png)"
   ]
  }
 ],
 "metadata": {
  "hide_input": false,
  "kernelspec": {
   "display_name": "Python 3 (ipykernel)",
   "language": "python",
   "name": "python3"
  },
  "language_info": {
   "codemirror_mode": {
    "name": "ipython",
    "version": 3
   },
   "file_extension": ".py",
   "mimetype": "text/x-python",
   "name": "python",
   "nbconvert_exporter": "python",
   "pygments_lexer": "ipython3",
   "version": "3.10.12"
  }
 },
 "nbformat": 4,
 "nbformat_minor": 5
}