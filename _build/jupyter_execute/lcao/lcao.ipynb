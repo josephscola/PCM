{
 "cells": [
  {
   "cell_type": "markdown",
   "id": "31c47fe4",
   "metadata": {},
   "source": [
    "# Combinaison linéaire d'orbitales atomiques"
   ]
  },
  {
   "cell_type": "markdown",
   "id": "36d60a13",
   "metadata": {},
   "source": [
    "Parmi toutes les solutions de l'équation de Schroëdinger intégrant le potentiel $V$ du réseau, on recherche celles qui vérifient des critères issus de l'observation et des hypothèses du modèle.\n",
    "\n",
    "1. **électrons fortment liés** : comme on considère que les électrons sont fortement liés à leur atome, leurs états accessibles sont les orbitales atomiques de chaque atome de l'édifice cristallin, dont l'amplitude (densité de probabilité de présence électroniques) est concentré au voisinage du noyau et décroît rapidement avec la distance. Leurs fonctions d'onde sont des superposition, c'est-à-dire des combinaisons linéaires, d'orbitales atomiques issus des atomes du cristal.\n",
    "2. **comportement ondulatoire** : les fonctions d'onde doivent présenter un comportement ondulatoire afin de rendre compte de l'éventuelle propagation des ondes électroniques, lorsque les conditions le permettent. \n",
    "3. **périodicité du résseau** : les fonctions d'onde des électrons mobiles doivent avoir la périodicité du réseau. L'invariance des états par translation selon un vecteur du réseau s'écrit $\\psi (x + ma) = \\psi (x), \\quad \\forall m \\in \\mathbb{Z} $.\n",
    "\n",
    "Prises ensemble, les deux premières conditions conduisent à rechercher des superpositions d'états orbitaux pour chacun des $N$ sites atomiques de la forme :\n",
    "\n",
    "$$\n",
    "\\psi_m (x) = e^{ikx} \\Psi_{n, \\ell} (x - ma), \\quad m,p \\in \\mathbb{Z}\n",
    "$$\n",
    "\n",
    "où le vecteur d'onde est imposé par les conditions limites : $k = p\\frac{2\\pi}{Na}, p \\in \\mathbb{Z}$.\n",
    "\n",
    "Finalement, compte tenu de la périodicité des fonctions d'onde héritée du réseau atomique, la superposition d'états s'écrit :\n",
    "$$\n",
    "\\psi_m (x) = e^{ikma} \\psi_0 (x+ma)\n",
    "$$\n",
    " \n",
    "$$\n",
    "\\psi (x) \\equiv \\sum_{m=1}^{N} \\psi_m = \\sum_{m=1}^{N} e^{ikma} \\psi_0 (x+ma),\\quad m \\in \\mathbb{Z}\n",
    "$$\n",
    "\n",
    "En tenant compte de la périodicité des fonctions d'onde, ces états s'écrivent à partir de l'orbitale de l'atome origine :\n",
    "\n",
    "\n"
   ]
  }
 ],
 "metadata": {
  "hide_input": false,
  "kernelspec": {
   "display_name": "Python 3 (ipykernel)",
   "language": "python",
   "name": "python3"
  },
  "language_info": {
   "codemirror_mode": {
    "name": "ipython",
    "version": 3
   },
   "file_extension": ".py",
   "mimetype": "text/x-python",
   "name": "python",
   "nbconvert_exporter": "python",
   "pygments_lexer": "ipython3",
   "version": "3.9.15"
  }
 },
 "nbformat": 4,
 "nbformat_minor": 5
}