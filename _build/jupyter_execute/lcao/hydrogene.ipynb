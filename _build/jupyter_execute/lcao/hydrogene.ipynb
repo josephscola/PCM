{
 "cells": [
  {
   "cell_type": "markdown",
   "id": "192a6088",
   "metadata": {},
   "source": [
    "# Orbitales hydrogénoïdes"
   ]
  },
  {
   "cell_type": "markdown",
   "id": "57d3b2ff",
   "metadata": {},
   "source": [
    "La résolution de l'équation de Schrödinger pour l'atome d'hydrogène isolé fournit les expressions analytiques des orbitales atomiques $\\Psi_{n, \\ell}$ en fonction de leurs nombres quantiques $n$ et $\\ell$:"
   ]
  },
  {
   "cell_type": "markdown",
   "id": "a5508edf",
   "metadata": {},
   "source": [
    "![Hydrogen_orbitals](./figures/Atomic_orbitals_n123_m-eigenstates.png)\n",
    "\n",
    "By Geek3 - Own work, Created with hydrogen 1.1, CC BY-SA 4.0, https://commons.wikimedia.org/w/index.php?curid=67681892\n"
   ]
  },
  {
   "cell_type": "markdown",
   "id": "909ed356",
   "metadata": {},
   "source": [
    "La complexité du problème croît tellement vite que les expressions analytiques des orbitales de l'atome isolé d'hélium ne sont pas accessibles.\n",
    "En pratique, les orbitales de l'atome d'hydrogène s'avèrent des approximations pertinentes des états électroniques pour la plupart des espèces chimiques.\n",
    "En contrepartie, des règles empiriques doivent être employée pour compenser l'absence de solutions analytique.\n",
    "Par exemple, on adjoint le principe d'Aufbau et la règle de Madelung pour déterminer le remplissage des couches atomiques (1s, 2s, 2p, 3s, 3p, 4s, 3d, *etc.*)."
   ]
  }
 ],
 "metadata": {
  "hide_input": false,
  "kernelspec": {
   "display_name": "Python 3 (ipykernel)",
   "language": "python",
   "name": "python3"
  },
  "language_info": {
   "codemirror_mode": {
    "name": "ipython",
    "version": 3
   },
   "file_extension": ".py",
   "mimetype": "text/x-python",
   "name": "python",
   "nbconvert_exporter": "python",
   "pygments_lexer": "ipython3",
   "version": "3.10.12"
  }
 },
 "nbformat": 4,
 "nbformat_minor": 5
}