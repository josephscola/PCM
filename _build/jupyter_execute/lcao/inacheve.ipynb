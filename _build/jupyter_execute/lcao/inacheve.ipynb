{
 "cells": [
  {
   "cell_type": "markdown",
   "id": "80fd8e94",
   "metadata": {},
   "source": [
    "![](./figures/C_hybridation.png)\n",
    "\n",
    "![](./figures/pi-bonds.png)"
   ]
  },
  {
   "cell_type": "markdown",
   "id": "3d20490d",
   "metadata": {},
   "source": [
    "## Densité d'états"
   ]
  },
  {
   "cell_type": "markdown",
   "id": "edd924cc",
   "metadata": {
    "hide_input": false
   },
   "source": [
    "A partir de la relation de dispersion, peuvent être dérivés la densité d'états et la masse effective.\n",
    "\n",
    "$$\n",
    "g(\\mathcal{E}) = \\frac{ N}{\\pi t} \\left[ 1 - \\left(\\frac{\\mathcal{E} - \\mathcal{E}_0}{2t} \\right)^2 \\right]^{-1/2}\n",
    "$$\n",
    "\n",
    "$$\n",
    "m^* = \\frac{-\\hbar^2}{a^2} \\frac{1}{\\mathcal{E} - \\mathcal{E}_0}\n",
    "$$"
   ]
  },
  {
   "cell_type": "code",
   "execution_count": 1,
   "id": "1433c08c",
   "metadata": {},
   "outputs": [
    {
     "ename": "NameError",
     "evalue": "name 'plt' is not defined",
     "output_type": "error",
     "traceback": [
      "\u001b[0;31m---------------------------------------------------------------------------\u001b[0m",
      "\u001b[0;31mNameError\u001b[0m                                 Traceback (most recent call last)",
      "Cell \u001b[0;32mIn [1], line 1\u001b[0m\n\u001b[0;32m----> 1\u001b[0m fig, ax \u001b[38;5;241m=\u001b[39m \u001b[43mplt\u001b[49m\u001b[38;5;241m.\u001b[39msubplots ()\n\u001b[1;32m      3\u001b[0m E \u001b[38;5;241m=\u001b[39m np\u001b[38;5;241m.\u001b[39mlinspace (\u001b[38;5;241m-\u001b[39m\u001b[38;5;241m1\u001b[39m, \u001b[38;5;241m1\u001b[39m, \u001b[38;5;241m200\u001b[39m)\n\u001b[1;32m      4\u001b[0m gE \u001b[38;5;241m=\u001b[39m (\u001b[38;5;241m1\u001b[39m \u001b[38;5;241m-\u001b[39m (E\u001b[38;5;241m/\u001b[39m\u001b[38;5;241m0.2\u001b[39m)\u001b[38;5;241m*\u001b[39m\u001b[38;5;241m*\u001b[39m\u001b[38;5;241m2\u001b[39m) \u001b[38;5;241m*\u001b[39m\u001b[38;5;241m*\u001b[39m (\u001b[38;5;241m-\u001b[39m\u001b[38;5;241m0.5\u001b[39m)\n",
      "\u001b[0;31mNameError\u001b[0m: name 'plt' is not defined"
     ]
    }
   ],
   "source": [
    "fig, ax = plt.subplots ()\n",
    "\n",
    "E = np.linspace (-1, 1, 200)\n",
    "gE = (1 - (E/0.2)**2) ** (-0.5)\n",
    "\n",
    "ax.plot (E, gE)"
   ]
  },
  {
   "cell_type": "markdown",
   "id": "aefbe9a8",
   "metadata": {},
   "source": [
    "## Description du potentiel du réseau"
   ]
  },
  {
   "cell_type": "markdown",
   "id": "0b32577b",
   "metadata": {},
   "source": [
    "La fonction $V (\\vec{r})$ possède par construction la périodicité du réseau.\n",
    "Elle peut donc s'exprimer comme la superposition de fonctions périodiques dans chaque direction ($x$, $y$, $z$) de l'espace :\n",
    "\n",
    "$$\n",
    "V (x) = \\sum_{n\\ge 1} g_n \\cos \\left( n\\frac{2\\pi}{a}x \\right).\n",
    "$$\n",
    "\n",
    "En effet, en première approximation, le potentiel périodique considéré comme une oscillation sinusoïdale de période $a$.\n",
    "Les termes d'ordre supérieurs ($n\\ge 2$) sont périodique de période $a/n$, ce qui conserve la périodicité de période $a$. \n",
    "Ces termes apportent des corrections de plus en plus fines à cette approximation jusqu'à faire tendre la série vers la fonction originale, éventuellement à la limite $n\\rightarrow \\infty$ (c'est la *décomposition en série de Fourier*)."
   ]
  },
  {
   "cell_type": "markdown",
   "id": "38623de9",
   "metadata": {},
   "source": [
    "Dans sa version complexe (décomposition en ondes planes), cette série prend la forme suivante :\n",
    "\n",
    "$$\n",
    "V (x) = \\sum_{n\\in \\mathbb{Z}} G_n e^ { in\\frac{2\\pi}{a}x }.\n",
    "$$"
   ]
  }
 ],
 "metadata": {
  "hide_input": false,
  "kernelspec": {
   "display_name": "Python 3 (ipykernel)",
   "language": "python",
   "name": "python3"
  },
  "language_info": {
   "codemirror_mode": {
    "name": "ipython",
    "version": 3
   },
   "file_extension": ".py",
   "mimetype": "text/x-python",
   "name": "python",
   "nbconvert_exporter": "python",
   "pygments_lexer": "ipython3",
   "version": "3.9.15"
  }
 },
 "nbformat": 4,
 "nbformat_minor": 5
}