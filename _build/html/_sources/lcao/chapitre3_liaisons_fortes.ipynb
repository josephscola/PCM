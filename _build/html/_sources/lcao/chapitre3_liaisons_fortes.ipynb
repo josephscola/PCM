{
 "cells": [
  {
   "cell_type": "markdown",
   "id": "2cbfbe02",
   "metadata": {},
   "source": [
    "# Chapitre 3 : Modèle des liaisons fortes "
   ]
  },
  {
   "cell_type": "markdown",
   "id": "3969b82b",
   "metadata": {},
   "source": [
    "## Limites forte et faible de l'intéraction électron-réseau\n",
    "Dans l'approche de l'électron presque libre, le potentiel est supposé suffisamment faible pour être considéré comme une légère perturbation de l'électron tout à fait libre.\n",
    "Les électrons sont d'autant plus libres (relation de dispersion parabolique, $\\mathcal{E} \\propto k^2$) que la norme de leur vecteur d'onde est petite par rapport à la première zone de Brillouin ($\\Vert \\vec{k} \\Vert \\ll \\frac{\\pi}{a}$).\n",
    "Autrement dit, l'influence du réseau sur les électrons est d'autant plus faible que leur longueur d'onde est grande devant le pas du réseau ($\\lambda \\gg a$).\n",
    "\n",
    "Au contraire, l'approche des liaisons fortes (*tight binding model*) postule que le potentiel atomique est la contribution principale de l'énergie des électrons. \n",
    "On suppose que les électrons sont aussi fortement liés à leur atome que si chaque atome du cristal était isolé;  ce sont les interactions avec les atomes voisins qui sont considérés comme des perturbations subies par les électrons dans leurs orbitales atomiques.\n",
    "Cette approche est valide lorsque le paramètre de maille $a$ s'étend : les conditions pour que les électrons soient libres sont de plus en plus restrictives et le potentiel est de moins en moins négligeable.\n",
    "De fait, plus les atomes sont éloignés les uns des autres, plus il est réaliste de les considérer comme des atomes isolés; il suffit d'imaginer un cristal dont le paramètre de maille est de l'ordre du kilomètre !"
   ]
  }
 ],
 "metadata": {
  "hide_input": false,
  "kernelspec": {
   "display_name": "Python 3 (ipykernel)",
   "language": "python",
   "name": "python3"
  },
  "language_info": {
   "codemirror_mode": {
    "name": "ipython",
    "version": 3
   },
   "file_extension": ".py",
   "mimetype": "text/x-python",
   "name": "python",
   "nbconvert_exporter": "python",
   "pygments_lexer": "ipython3",
   "version": "3.9.15"
  }
 },
 "nbformat": 4,
 "nbformat_minor": 5
}
