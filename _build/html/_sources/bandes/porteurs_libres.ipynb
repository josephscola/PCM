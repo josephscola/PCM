{
 "cells": [
  {
   "cell_type": "markdown",
   "id": "3d31a79d",
   "metadata": {},
   "source": [
    "# Porteurs libres dans un semiconducteur\n",
    "\n",
    "## Densité de porteurs libres\n",
    "La densité de porteurs libres, c'est-à-dire d'électrons libres dans la bande de conduction et de trous dans la bande de valence s'exprime à partir de la densité d'états et de la distribution de Fermi-Dirac.\n",
    "Par exemple, le nombre d'électrons dans la bande de conduction s'écrit :\n",
    "\n",
    "$$\n",
    "N = \\int_{\\mathcal{E}_C}^{\\infty} g(\\mathcal{E}) f_{FD}(\\mathcal{E}) \\mathrm{d}\\mathcal{E},\\quad\n",
    "g (\\mathcal{E}) = \\frac{V}{2\\pi^2} \\left( \\frac{2m^*_e}{\\hbar^2} \\right)^{3/2} (\\mathcal{E} - \\mathcal{E}_C)^{1/2}\n",
    "$$"
   ]
  },
  {
   "cell_type": "markdown",
   "id": "63c456eb",
   "metadata": {},
   "source": [
    "A température ambiante, $k_BT \\approx 26$ meV et $e^{(\\mathcal{E}-\\mathcal{E}_F)/k_BT}$ devient exponentiellement grand devant 1 pour des écarts d'énergie supérieurs à 0.1 eV.\n",
    "Pour des bandes interdites de l'ordre de 1 eV, il est donc réaliste de substituer la distribution de Fermi-Dirac par son expression asymptotique :\n",
    "\n",
    "$$\n",
    "f_{FD} (\\mathcal{E})\\stackrel{\\mathcal{E}-\\mathcal{E}_F > k_BT}{\\longrightarrow}e^{-(\\mathcal{E}-\\mathcal{E}_F)/k_BT}\n",
    "$$\n",
    "\n",
    "En utilisant le résultat $\\int_0^{\\infty} \\sqrt{x}e^{-x} \\mathrm{d}x = \\frac{\\sqrt{\\pi}}{2}$, on obtient l'expression de la densité d'électrons dans la bande de conduction :\n",
    "\n",
    "$$\n",
    "n = N_C e^{-(\\mathcal{E}_C-\\mathcal{E}_F)/k_BT},\\quad N_C = 2 \\left( \\frac{2\\pi m^*_ek_BT}{h^2} \\right)^{3/2}\n",
    "$$\n",
    "\n",
    "En considérant les trous comme des porteurs de charge positive et de masse $m_h^*$ dans la bande de valence dont le bord est $\\mathcal{E}_V$, le raisonnement précédent produit l'expression des trous libres dans la bande de valence :\n",
    "\n",
    "$$\n",
    "p = N_V e^{(\\mathcal{E}_V-\\mathcal{E}_F)/k_BT},\\quad N_V = 2 \\left( \\frac{2\\pi m^*_hk_BT}{h^2} \\right)^{3/2}\n",
    "$$\n",
    "\n",
    "## Neutralité du cristal\n",
    "\n",
    "La neutralité du cristal impose $n = p$, c'est-à-dire\n",
    "$$\n",
    "\\begin{align}\n",
    "\\frac{e^{-(\\mathcal{E}_C-\\mathcal{E}_F)/k_BT}}{e^{(\\mathcal{E}_V-\\mathcal{E}_F)/k_BT}} &= \\frac{N_V}{N_C} \\\\\n",
    "\\Rightarrow \n",
    "\\mathcal{E}_F &= \\frac{\\mathcal{E}_C + \\mathcal{E}_V}{2} + \\frac{3}{4} k_BT \\log \\left(\\frac{m_h}{m_e}\\right)\n",
    "\\end{align}\n",
    "$$"
   ]
  },
  {
   "cell_type": "markdown",
   "id": "b932a65f",
   "metadata": {},
   "source": [
    "*Remarque :* tant que le rapport des masses effectives des électrons et des trous est inférieure à 173, alors l'énergie de Fermi ne s'écarte du milieu de la bande de conduction de moinds de 0.1 eV."
   ]
  },
  {
   "cell_type": "markdown",
   "id": "3fa77f7c",
   "metadata": {},
   "source": [
    "## Semiconducteur intrinsèque"
   ]
  },
  {
   "cell_type": "markdown",
   "id": "8d5e3012",
   "metadata": {},
   "source": [
    "Les densités de porteurs libres sont déterminées par la structure électronique (densité d'états et bande interdite $\\mathcal{E}_g$).\n",
    "\n",
    "$$\n",
    "np \\equiv ni^2 = N_C N_V e^{-\\mathcal{E}_g/k_BT}\n",
    "$$"
   ]
  }
 ],
 "metadata": {
  "hide_input": false,
  "kernelspec": {
   "display_name": "Python 3 (ipykernel)",
   "language": "python",
   "name": "python3"
  },
  "language_info": {
   "codemirror_mode": {
    "name": "ipython",
    "version": 3
   },
   "file_extension": ".py",
   "mimetype": "text/x-python",
   "name": "python",
   "nbconvert_exporter": "python",
   "pygments_lexer": "ipython3",
   "version": "3.9.16"
  }
 },
 "nbformat": 4,
 "nbformat_minor": 5
}
