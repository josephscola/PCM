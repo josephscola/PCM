{
 "cells": [
  {
   "cell_type": "markdown",
   "id": "4b58f744-993a-4000-b71f-088201928b71",
   "metadata": {},
   "source": [
    "# Structure de bandes : du métal à l'isolant\n",
    "\n",
    "Pour quelle raison les électrons de valence des alkalins (Li, Na, _etc._) sont-ils quasiment libres alors que ceux du carbone ou du silicium, pourtant quatre fois plus nombreux, n'assurent aucune conduction électrique dans les isolants ?\n",
    "\n",
    "\n",
    "```{tableofcontents}\n",
    "```"
   ]
  }
 ],
 "metadata": {
  "kernelspec": {
   "display_name": "Python 3 (ipykernel)",
   "language": "python",
   "name": "python3"
  },
  "language_info": {
   "codemirror_mode": {
    "name": "ipython",
    "version": 3
   },
   "file_extension": ".py",
   "mimetype": "text/x-python",
   "name": "python",
   "nbconvert_exporter": "python",
   "pygments_lexer": "ipython3",
   "version": "3.10.12"
  }
 },
 "nbformat": 4,
 "nbformat_minor": 5
}
