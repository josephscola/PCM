{
 "cells": [
  {
   "cell_type": "markdown",
   "metadata": {},
   "source": [
    "# Etats des électrons libres dans un édifice 3D"
   ]
  },
  {
   "cell_type": "markdown",
   "metadata": {},
   "source": [
    "## Position du problème\n",
    "Les électrons sont dits libres au sens où ils n'interagissent ni entre eux, ni avec les noyaux du système. \n",
    "Tout se passe comme si l'édifice qu'ils occupent étaient une enceinte fermée et vide; \n",
    "Le problème s'écrit alors :\n",
    "\n",
    "$$\n",
    "\\frac{-\\hbar^2}{2m} \\Delta \\psi + V \\psi = \\mathcal{E}\\psi\n",
    "$$\n",
    "\n",
    "avec\n",
    "\n",
    "$$\n",
    "\\left\\{\n",
    "\\begin{align}\n",
    "V (\\vec{r}\\in \\mathrm{\\acute{e}difice}) &= 0\\\\\n",
    "    V (\\vec{r}\\notin \\mathrm{\\acute{e}difice}) &\\rightarrow \\infty\n",
    "\\end{align}\n",
    "\\right.\n",
    "$$\n",
    "\n",
    "Par sa forme infiniment profonde, ce potentiel est usuellement désigné comme un _puits de potentiel_.\n",
    "Sans erte de généralité, on considérera un édifice parallélépipédique de volume $V = L_x L_y L_z$."
   ]
  },
  {
   "cell_type": "markdown",
   "metadata": {},
   "source": [
    "## Calcul des solutions\n",
    "On cherche des solutions de la forme:\n",
    "\n",
    "$$ \\psi (x,y,z) = \\psi_x(x) \\psi_y(y) \\psi_z(z)$$\n",
    "\n",
    "L'équation de Schrödinger peut alors être séparée en 3 équations indépendnantes correspondant à chacune des 3 directions de l'espace :\n",
    "\n",
    "$$\n",
    "\\frac{\\hbar^2}{2m} \\frac{\\partial ^2 \\psi_\\alpha}{\\partial \\alpha^2} + \\mathcal{E}_\\alpha \\psi_\\alpha,\n",
    "\\quad \\alpha = x,y,z .\n",
    "$$\n",
    "\n",
    "Ces équations admettent des solutions de la forme :\n",
    "\n",
    "$$\n",
    "\\psi_\\alpha (\\alpha) = A e^{ik_\\alpha \\alpha} + B e^{-ik_\\alpha \\alpha},\n",
    "\\quad A, B \\in \\mathbb{C},\\, \\forall \\alpha \\in [0,L_\\alpha]\n",
    "$$\n",
    "\n",
    "La condition au premier bord ($\\psi_\\alpha (0) = 0$) impose $A + B =0$.\n",
    "Il s'ensuit que la condition au second bord ($\\psi_\\alpha (L_\\alpha) = 0$) s'exprime :\n",
    "\n",
    "$$\n",
    "A (e^{ik_\\alpha L_\\alpha} - e^{-ik_\\alpha L_\\alpha}) = 0 \\quad\n",
    "    \\Rightarrow \\quad A \\sin (k_\\alpha L_\\alpha) = 0 \\quad\n",
    "    \\Rightarrow \\quad \n",
    "    k_\\alpha = n_\\alpha \\pi / L_\\alpha,\\, n_\\alpha \\in \\mathbb {N}^*\n",
    "$$\n",
    "\n",
    "Les $k_\\alpha$ représentent les nombres d'onde ($k \\equiv 2\\pi/\\lambda$) dans les directions $\\alpha = x,y,z$, c'est-à-dire les composantes du vecteur d'onde représentant l'électron libre décrit par la solution $\\psi$."
   ]
  },
  {
   "cell_type": "markdown",
   "metadata": {},
   "source": [
    "Finalement, les solutions de l'équation du mouvement des électrons libres s'expriment :\n",
    "\n",
    "$$\n",
    "\\psi (\\vec{r}) = ABC \\sin (\\frac{n_x\\pi}{L_x}x) \\sin (\\frac{n_y\\pi}{L_y}y) \\sin (\\frac{n_z\\pi}{L_z}z)\n",
    "$$\n",
    "\n",
    "avec $ABC = \\sqrt {8/V}$ afin de respecter l'unicité de l'électron décrit par $\\psi$ dans l'édifice : $\\int_\\mathrm{\\acute{e}difice}\\psi (\\vec{r}) \\psi^* (\\vec{r}) d^3\\tau = 1$."
   ]
  },
  {
   "cell_type": "markdown",
   "metadata": {},
   "source": [
    "Dans un édifice 1D, les solutions de l'équation de Schrödinger stationnaires sont analogues aux modes de vibration d'une corde de guitare."
   ]
  },
  {
   "cell_type": "code",
   "execution_count": 1,
   "metadata": {},
   "outputs": [
    {
     "data": {
      "text/plain": [
       "<Figure size 500x600 with 4 Axes>"
      ]
     },
     "metadata": {},
     "output_type": "display_data"
    }
   ],
   "source": [
    "import matplotlib.pyplot as plt\n",
    "import numpy as np\n",
    "nrows = 4\n",
    "fig, ax = plt.subplots (nrows = nrows, ncols = 1, figsize = (5,6))\n",
    "x = np.linspace (0,1)\n",
    "for i in range (nrows):\n",
    "    ax [i].plot (x, np.sin ((i+1) * np.pi * x),  color = f'C{i:d}')\n",
    "    ax [i].text (0.92, 0.87,f'n = {i+1:d}', color = f'C{i:d}')\n",
    "    \n",
    "    # use set_position\n",
    "    \n",
    "    ax [i].spines ['top'].set_color ('none')\n",
    "    ax [i].spines ['left'].set_position ('zero')\n",
    "    ax [i].spines ['right'].set_color ('none')\n",
    "    ax [i].spines ['bottom'].set_position ('zero')\n",
    "    ax [i].set_ylim ((-1,1))\n",
    "    ax [i].set_ylabel (r'$\\psi$'+f'{i+1:d} (x)')\n",
    "            \n",
    "\n",
    "ax [nrows-1].set_xlabel ('x/L_x')\n",
    "ax [nrows-1].xaxis.set_label_coords(0.5, -0.05)\n",
    "ax [0].set_title (f\"Allure des {nrows:d} premières fonctions d'onde de l'électron libre (1D)\")\n",
    "\n",
    "\n",
    "plt.tight_layout ()\n",
    "plt.show ()"
   ]
  },
  {
   "cell_type": "markdown",
   "metadata": {},
   "source": [
    "Les états accessibles aux électrons libres dans le puits de potentiel sont donc définis par l'ensemble des fonctions d'ondes solutions de l'équation de Schrödinger.\n",
    "Chacun de ces états se distingue par son vecteur d'onde $\\vec{k}$.\n",
    "Ces vecteurs d'onde pointent vers des positions ponctuelles constituant un réseau régulier dans l'espace réciproque.\n"
   ]
  },
  {
   "cell_type": "code",
   "execution_count": 37,
   "metadata": {},
   "outputs": [
    {
     "name": "stderr",
     "output_type": "stream",
     "text": [
      "/usr/lib/python3/dist-packages/ipykernel_launcher.py:23: MatplotlibDeprecationWarning: The 's' parameter of annotate() has been renamed 'text' since Matplotlib 3.3; support for the old name will be dropped two minor releases later.\n"
     ]
    },
    {
     "data": {
      "image/png": "[encoded data removed]",
      "text/plain": [
       "<Figure size 360x360 with 1 Axes>"
      ]
     },
     "metadata": {},
     "output_type": "display_data"
    }
   ],
   "source": [
    "# espace des $k$ à 2 dimensions\n",
    "fig, ax = plt.subplots (nrows = 1, ncols = 1, figsize = (5,5))\n",
    "\n",
    "n, m = 14,14\n",
    "col = 'C0'\n",
    "\n",
    "for y in range (n+1):\n",
    "    for x in range (m+1):\n",
    "        if x*y == 0:\n",
    "            ax.plot (x, y, marker = 'o', color = col, markersize = 8, alpha = 0.02)\n",
    "        else:\n",
    "            if x*x + y*y > m*n:\n",
    "                ax.plot (x, y, marker = 'o', color = col, markersize = 6, alpha = 0.2)\n",
    "            else:\n",
    "                ax.plot (x, y, marker = 'o', color = col, markersize = 6)\n",
    "x = np.linspace (0, m)\n",
    "ax.plot (x, np.sqrt (m*m-x*x), color = 'C1', alpha = 0.5)\n",
    "ax.set_aspect (1)\n",
    "ax.set_xlabel (r'$n_x =  \\frac{k_x}{\\pi/L_x}$')\n",
    "ax.set_ylabel (r'$n_y =  \\frac{k_y}{\\pi/L_y}$')\n",
    "\n",
    "ax.annotate (s = '', xy = (7,12), xytext = (0,0),\n",
    "            arrowprops = dict (facecolor = 'C1', edgecolor = 'C1', width = 1.2))\n",
    "ax.text (7.5,12.2, r'$\\Vert\\vec{k}\\Vert = k_F$', color = 'C1')\n",
    "\n",
    "ax.set_title (\"Etats accessibles aux électrons libres dans l\\'espace des $k$ (2D)\")\n",
    "\n",
    "ax.set_xlim (0,m)\n",
    "ax.set_ylim (0,n)\n",
    "plt.show ()"
   ]
  }
 ],
 "metadata": {
  "hide_input": false,
  "kernelspec": {
   "display_name": "Python 3 (ipykernel)",
   "language": "python",
   "name": "python3"
  },
  "language_info": {
   "codemirror_mode": {
    "name": "ipython",
    "version": 3
   },
   "file_extension": ".py",
   "mimetype": "text/x-python",
   "name": "python",
   "nbconvert_exporter": "python",
   "pygments_lexer": "ipython3",
   "version": "3.10.12"
  }
 },
 "nbformat": 4,
 "nbformat_minor": 4
}
