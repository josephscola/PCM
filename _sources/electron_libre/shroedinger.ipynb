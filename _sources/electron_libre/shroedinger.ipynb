{
 "cells": [
  {
   "cell_type": "markdown",
   "metadata": {},
   "source": [
    "## Mouvement de l'électron libre : équation de Schrödinger"
   ]
  },
  {
   "cell_type": "markdown",
   "metadata": {},
   "source": [
    "###  Position du problème stationnaire"
   ]
  },
  {
   "cell_type": "markdown",
   "metadata": {},
   "source": [
    "Dès lors que le système a atteint son régime permanent, _i.e._ après le régime transitoire consécutif à une modification de l'environnement, les ondes électroniques sont les solutions de l'équation de Schrödinger stationnaire.\n",
    "\n",
    "$$\n",
    "\\frac{-\\hbar^2}{2m} \\Delta \\psi (\\vec{r}) + V (\\vec{r}) \\psi (\\vec{r}) = \\mathcal{E} \\psi (\\vec{r}).\n",
    "$$\n",
    "\n",
    "Les paramètres de l'équations sont:\n",
    "- $\\mathcal{E}\\psi (\\vec{r})$ : l'énergie totale de la particule décrite par $\\psi$, à la position $\\vec{r}$\n",
    "- $V(\\vec{r})\\psi$ :  énergie potentielle de la particule décrite par $\\psi$ à la position $\\vec{r}$; $V (\\vec{r})$ représente le potentiel d'interaction de la particule avec son environnement à la position $\\vec{r}$\n",
    "- $\\hbar = h/2\\pi$"
   ]
  },
  {
   "cell_type": "markdown",
   "metadata": {},
   "source": [
    "### Analogie avec les phénomènes ondulatoires"
   ]
  },
  {
   "cell_type": "markdown",
   "metadata": {},
   "source": [
    "Le formalisme de l'équation reprend celui des ondes ordinaires.\n",
    "Pour mémoire, le déplacement $u(x)$ au point $x$ d'une corde vibrante homogène est déterminé par l'équation \n",
    "\n",
    "$$\n",
    "- \\frac{\\mathrm{d}^2 u}{\\mathrm{d} x^2} = k^2u\n",
    "$$\n",
    "\n",
    "où $k$ dépend des propriétés de la corde (longueur, masse linéique, raideur).\n",
    "\n",
    "Dans le cas d'un volume vibrant (_i.e._ le volume d'air dans le conduit d'une trompette), les déplacements d'air locaux, au point $\\vec{r} = x\\vec{u}_x + y \\vec{u}_y + z \\vec{u}_z$, sont déterminés de façon analogue :\n",
    "\n",
    "$$\n",
    "\\begin{align}\n",
    "- \\left( \\frac{\\partial^2 u}{\\partial x^2}\n",
    "                    + \\frac{\\partial^2 u}{\\partial y^2}\n",
    "                    + \\frac{\\partial^2 u}{\\partial z^2} \n",
    "               \\right)  &= k^2u \\\\\n",
    "- \\Delta u &= k^2u          \n",
    "\\end{align}\n",
    "$$"
   ]
  },
  {
   "cell_type": "markdown",
   "metadata": {},
   "source": [
    "### Eléments de justification\n",
    "Considérons la propagation de l'onde électronique se produit suivant $\\vec{k} = k_x\\vec{u}_x + k_y\\vec{u}_y + k_z\\vec{u}_z$ :\n",
    "\n",
    "Le premier terme de l'équation de Schrödinger s'écrit :\n",
    "\n",
    "$$\n",
    "\\begin{align}\n",
    "\\frac{-\\hbar^2}{2m} \\Delta \\psi &= \\frac{-\\hbar^2}{2m}\n",
    "                                        \\left(\n",
    "                                        \\frac{\\partial^2 A e^{i\\vec{k}\\cdot\\vec{r}}}{\\partial x^2}\n",
    "                                        - \\frac{\\partial^2 A e^{i\\vec{k}\\cdot\\vec{r}}}{\\partial y^2}\n",
    "                                        - \\frac{\\partial^2 A e^{i\\vec{k}\\cdot\\vec{r}}}{\\partial z^2}\n",
    "                                        \\right)\\\\\n",
    "            &= \\frac{\\hbar^2}{2m} \\left( k_x^2 A e^{i\\vec{k}\\cdot\\vec{r}}\n",
    "                                        + k_y^2 A e^{i\\vec{k}\\cdot\\vec{r}}\n",
    "                                        + k_z^2 A e^{i\\vec{k}\\cdot\\vec{r}} \\right) \\\\\n",
    "            &= \\frac{\\hbar^2}{2m} k^2 \\psi \\\\\n",
    "            &= \\frac{\\hbar^2}{2m} \\frac{p^2}{\\hbar^2} \\psi, \\qquad (p = h/\\lambda \\equiv \\hbar k) \\\\\n",
    "            &= \\frac{\\hbar^2}{2m} \\frac{2m}{\\hbar^2} \\mathcal {E}_\\mathrm{cin} \\psi \\\\\n",
    "            &= \\mathcal {E}_\\mathrm{cin} \\psi\n",
    "\\end{align}\n",
    "$$\n",
    "\n",
    "Ainsi, le premier terme l'équation est l'énergie cinétique à la position $\\vec{r}$ de la particule décrite par $\\psi(\\vec{r})$.\n",
    "Le second terme, $V(\\vec{r})\\psi(\\vec{r})$, est l'énergie potentielle de la particule au voisinage de la position  $\\vec{r}$.\n",
    "Finalement, l'équation de Schrödinger décompose donc l'énergie totale de l'onde électronique en énergies cinétique et potentielle.\n",
    "Elle est équivalente à l'approche utilisé pour les particules vues comme des corpuscules."
   ]
  }
 ],
 "metadata": {
  "hide_input": false,
  "kernelspec": {
   "display_name": "Python 3 (ipykernel)",
   "language": "python",
   "name": "python3"
  },
  "language_info": {
   "codemirror_mode": {
    "name": "ipython",
    "version": 3
   },
   "file_extension": ".py",
   "mimetype": "text/x-python",
   "name": "python",
   "nbconvert_exporter": "python",
   "pygments_lexer": "ipython3",
   "version": "3.8.10"
  }
 },
 "nbformat": 4,
 "nbformat_minor": 2
}
